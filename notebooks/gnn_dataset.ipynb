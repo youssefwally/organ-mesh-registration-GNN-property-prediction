{
 "cells": [
  {
   "cell_type": "code",
   "execution_count": 2,
   "metadata": {},
   "outputs": [],
   "source": [
    "import os\n",
    "import torch\n",
    "from torch_geometric.data import Dataset, download_url\n",
    "import os\n",
    "import pandas as pd"
   ]
  },
  {
   "cell_type": "markdown",
   "metadata": {},
   "source": [
    "- Here is some general information about the data in this folder.\n",
    "\n",
    "1.  Bridge_eids_60520_87802.csv:<br>\n",
    "\n",
    "- This file contains the bridging between the two sets of subject IDs.<br>\n",
    "- The 'old' ID can be found in the column 'eid_60520' - and the 'new' ID in column 'eid_87802'.  \n",
    "- The new ID corresponds to the folder names, the old ID to the subj_id saved in the data objects.  \n",
    "\n",
    "***\n",
    "\n",
    "2. basic_features.csv \n",
    "\n",
    "- This file contains some basic features of subjects. The columns stand for the following:\n",
    "- 21003-2.0: age\n",
    "- 31-0.0: sex (0: female, 1: male)\n",
    "- 21001-2.0: BMI\n",
    "- 21002-2.0: weight\n",
    "- 50-2.0: standing height"
   ]
  },
  {
   "cell_type": "markdown",
   "metadata": {},
   "source": [
    "# CREATE TRAIN VAL TEST SPLITS"
   ]
  },
  {
   "cell_type": "code",
   "execution_count": 10,
   "metadata": {},
   "outputs": [],
   "source": [
    "from sklearn.model_selection import train_test_split\n",
    "import os \n",
    "organ_mesh_ids = os.listdir('/data0/practical-wise2223/organ_mesh/organ_meshes')\n"
   ]
  },
  {
   "cell_type": "code",
   "execution_count": 15,
   "metadata": {},
   "outputs": [
    {
     "data": {
      "text/plain": [
       "30382"
      ]
     },
     "execution_count": 15,
     "metadata": {},
     "output_type": "execute_result"
    }
   ],
   "source": [
    "len(organ_mesh_ids)"
   ]
  },
  {
   "cell_type": "code",
   "execution_count": 24,
   "metadata": {},
   "outputs": [
    {
     "data": {
      "text/plain": [
       "False"
      ]
     },
     "execution_count": 24,
     "metadata": {},
     "output_type": "execute_result"
    }
   ],
   "source": [
    "sorted(set(organ_mesh_ids)) == sorted(set(registered_ids))\n",
    "# Registered folder has 3 files missing\n",
    "# 3 Files most likely included in our training set\n",
    "# There is possiblity that "
   ]
  },
  {
   "cell_type": "code",
   "execution_count": 21,
   "metadata": {},
   "outputs": [],
   "source": [
    "registered_path = \"/data0/practical-wise2223/organ_mesh/gendered_organ_registrations_ply/\"\n",
    "registered_ids = os.listdir(registered_path)"
   ]
  },
  {
   "cell_type": "code",
   "execution_count": 11,
   "metadata": {},
   "outputs": [
    {
     "data": {
      "text/plain": [
       "30382"
      ]
     },
     "execution_count": 11,
     "metadata": {},
     "output_type": "execute_result"
    }
   ],
   "source": [
    "# There are organ mesh which do not have bmi features.\n"
   ]
  },
  {
   "cell_type": "code",
   "execution_count": 31,
   "metadata": {},
   "outputs": [],
   "source": [
    "# Get the basic features\n",
    "basic_features = pd.read_csv('/data0/practical-wise2223/organ_mesh/basic_features.csv')\n",
    "basic_features_nonnna = basic_features.dropna()"
   ]
  },
  {
   "cell_type": "code",
   "execution_count": 41,
   "metadata": {},
   "outputs": [],
   "source": [
    "#  Non na ids \n",
    "valid_ids = set(basic_features_nonnna['eid'].values)\n",
    "# Convert to str\n",
    "valid_ids = [str(each) for each in valid_ids]"
   ]
  },
  {
   "cell_type": "code",
   "execution_count": 46,
   "metadata": {},
   "outputs": [],
   "source": [
    "# Calculate the set intersection of the registered ids and the valid ids\n",
    "valid_registered_ids = set(registered_ids).intersection(valid_ids)\n"
   ]
  },
  {
   "cell_type": "code",
   "execution_count": 48,
   "metadata": {},
   "outputs": [
    {
     "data": {
      "text/plain": [
       "29348"
      ]
     },
     "execution_count": 48,
     "metadata": {},
     "output_type": "execute_result"
    }
   ],
   "source": [
    "len(valid_registered_ids)"
   ]
  },
  {
   "cell_type": "code",
   "execution_count": 51,
   "metadata": {},
   "outputs": [
    {
     "name": "stdout",
     "output_type": "stream",
     "text": [
      "X train shape :  22011 X Val shape  4402 X Test shape 2935\n"
     ]
    }
   ],
   "source": [
    "train_ratio = 0.75\n",
    "validation_ratio = 0.15\n",
    "test_ratio = 0.10\n",
    "\n",
    "# train is now 75% of the entire data set\n",
    "# the _junk suffix means that we drop that variable completely\n",
    "x_train, x_test = train_test_split(list(valid_registered_ids), test_size=1 - train_ratio)\n",
    "\n",
    "# test is now 10% of the initial data set\n",
    "# validation is now 15% of the initial data set\n",
    "x_val, x_test = train_test_split(x_test, test_size=test_ratio/(test_ratio + validation_ratio)) \n",
    "\n",
    "print('X train shape : ', len(x_train), 'X Val shape ', len(x_val), 'X Test shape', len(x_test))"
   ]
  },
  {
   "cell_type": "code",
   "execution_count": 52,
   "metadata": {},
   "outputs": [],
   "source": [
    "def write_list_file(split_list, out_path='.', mode='train'):\n",
    "    path = os.path.join(out_path, f'NonNa_organs_split_{mode}.txt')\n",
    "    with open(path, 'w') as f:\n",
    "        f.write(\"\\n\".join(str(item) for item in split_list))\n"
   ]
  },
  {
   "cell_type": "code",
   "execution_count": 53,
   "metadata": {},
   "outputs": [],
   "source": [
    "write_list_file(x_train, out_path='../data', mode='train')\n",
    "write_list_file(x_val, '../data', mode='val')\n",
    "write_list_file(x_test, '../data', mode='test')"
   ]
  },
  {
   "cell_type": "code",
   "execution_count": 58,
   "metadata": {},
   "outputs": [],
   "source": [
    "import pandas as pd \n",
    "\n",
    "\n",
    "class OrganMeshDataset(Dataset):\n",
    "    def __init__(self, root, basic_feats_path, bridge_path, mode='train', organ='liver', split_path = None,\n",
    "                 num_samples = None, transform=None, pre_transform=None, pre_filter=None):\n",
    "    \n",
    "        super().__init__(root, transform, pre_transform, pre_filter)\n",
    "        assert mode in ['train', 'val', 'test']\n",
    "\n",
    "        self.root = root\n",
    "        self.organ = organ\n",
    "\n",
    "        \n",
    "        split_path = os.path.join(split_path, f'organs_split_{mode}.txt')\n",
    "        with open(split_path) as f:\n",
    "            self.organ_mesh_ids = f.readlines()\n",
    "\n",
    "        if num_samples is not None:\n",
    "            self.organ_mesh_ids = os.listdir(root)[:num_samples]    \n",
    "\n",
    "        self.basic_feats_path = basic_feats_path \n",
    "        self.bridge_path = bridge_path\n",
    "\n",
    "        self.basic_features = pd.read_csv(basic_feats_path)\n",
    "        new_names = {'21003-2.0':'age', '31-0.0':'sex', '21001-2.0':'bmi', '21002-2.0':'weight','50-2.0':'standing_weight'}\n",
    "        self.basic_features = self.basic_features.rename(index=str, columns=new_names)\n",
    "        self.bridge_organ_df = pd.read_csv(bridge_path)\n",
    "\n",
    "    def len(self):\n",
    "        return len(self.organ_mesh_ids)\n",
    "\n",
    "\n",
    "    def get(self, idx):\n",
    "        selected_patient = self.organ_mesh_ids[idx]\n",
    "        #print('Selected Patient', selected_patient)\n",
    "        data = torch.load(os.path.join(self.root, selected_patient,f'{self.organ}_mesh.pt'))\n",
    "        old_id = data['eid']\n",
    "        new_id = selected_patient\n",
    "        patient_features = self.basic_features[self.basic_features['eid'] == int(selected_patient)]\n",
    "        #print(patient_features['sex'])\n",
    "        gender_patient = patient_features['sex'].item()\n",
    "        print('Gender patient', gender_patient)\n",
    "        #Label of the data is currently gender\n",
    "        data.y = gender_patient\n",
    "        return data\n",
    "    \n"
   ]
  },
  {
   "cell_type": "code",
   "execution_count": 59,
   "metadata": {},
   "outputs": [],
   "source": [
    "root = '/data0/practical-wise2223/organ_mesh/organ_meshes'\n",
    "basic_feat_path = '/data0/practical-wise2223/organ_mesh/basic_features.csv'\n",
    "bridge_path = '/data0/practical-wise2223/organ_mesh/Bridge_eids_60520_87802.csv'\n",
    "split_path = '/data0/practical-wise2223/organ_mesh/data/'\n"
   ]
  },
  {
   "cell_type": "code",
   "execution_count": 60,
   "metadata": {},
   "outputs": [],
   "source": [
    "train_dataset = OrganMeshDataset(root, basic_feat_path, bridge_path, mode='train', split_path=split_path )\n",
    "val_dataset = OrganMeshDataset(root, basic_feat_path, bridge_path, mode='val', split_path=split_path )\n",
    "test_dataset = OrganMeshDataset(root, basic_feat_path, bridge_path, mode='test', split_path=split_path )"
   ]
  },
  {
   "cell_type": "code",
   "execution_count": 61,
   "metadata": {},
   "outputs": [
    {
     "data": {
      "text/plain": [
       "OrganMeshDataset(22786)"
      ]
     },
     "execution_count": 61,
     "metadata": {},
     "output_type": "execute_result"
    }
   ],
   "source": [
    "train_dataset"
   ]
  },
  {
   "cell_type": "code",
   "execution_count": 62,
   "metadata": {},
   "outputs": [
    {
     "data": {
      "text/plain": [
       "OrganMeshDataset(4557)"
      ]
     },
     "execution_count": 62,
     "metadata": {},
     "output_type": "execute_result"
    }
   ],
   "source": [
    "val_dataset"
   ]
  },
  {
   "cell_type": "code",
   "execution_count": 63,
   "metadata": {},
   "outputs": [
    {
     "data": {
      "text/plain": [
       "OrganMeshDataset(3039)"
      ]
     },
     "execution_count": 63,
     "metadata": {},
     "output_type": "execute_result"
    }
   ],
   "source": [
    "test_dataset"
   ]
  },
  {
   "cell_type": "code",
   "execution_count": null,
   "metadata": {},
   "outputs": [],
   "source": []
  }
 ],
 "metadata": {
  "kernelspec": {
   "display_name": "Python 3",
   "language": "python",
   "name": "python3"
  },
  "language_info": {
   "codemirror_mode": {
    "name": "ipython",
    "version": 3
   },
   "file_extension": ".py",
   "mimetype": "text/x-python",
   "name": "python",
   "nbconvert_exporter": "python",
   "pygments_lexer": "ipython3",
   "version": "3.8.10"
  },
  "orig_nbformat": 4,
  "vscode": {
   "interpreter": {
    "hash": "916dbcbb3f70747c44a77c7bcd40155683ae19c65e1c03b4aa3499c5328201f1"
   }
  }
 },
 "nbformat": 4,
 "nbformat_minor": 2
}
