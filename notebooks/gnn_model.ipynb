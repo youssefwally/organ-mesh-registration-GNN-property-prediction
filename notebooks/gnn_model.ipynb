{
 "cells": [
  {
   "cell_type": "code",
   "execution_count": 1,
   "metadata": {},
   "outputs": [],
   "source": [
    "# ENSEMBLE MODELS"
   ]
  },
  {
   "cell_type": "code",
   "execution_count": 2,
   "metadata": {},
   "outputs": [
    {
     "name": "stdout",
     "output_type": "stream",
     "text": [
      "Jupyter environment detected. Enabling Open3D WebVisualizer.\n",
      "[Open3D INFO] WebRTC GUI backend enabled.\n",
      "[Open3D INFO] WebRTCWindowSystem: HTTP handshake server disabled.\n"
     ]
    }
   ],
   "source": [
    "\n",
    "\n",
    "import sys\n",
    "import os\n",
    "import wandb\n",
    "import pandas as pd\n",
    "sys.path.append('/u/home/koksal/organ-mesh-registration-and-property-prediction/')\n",
    "\n",
    "import torch\n",
    "from src.models.fsgn_model import MeshSeg\n",
    "from src.data.organs_dataset import OrganMeshDataset\n",
    "from torch_geometric.data import DataLoader\n",
    "from tqdm import tqdm\n",
    "from time import sleep\n",
    "import mlflow\n",
    "from src.models.baseline_model import GNN\n",
    "import argparse\n",
    "from sklearn.metrics import r2_score\n",
    "\n",
    "#config = Args()\n",
    "from src.models.train import build_dataset, build_network\n",
    "from src.models.train import accuracy"
   ]
  },
  {
   "cell_type": "code",
   "execution_count": null,
   "metadata": {},
   "outputs": [],
   "source": []
  },
  {
   "cell_type": "code",
   "execution_count": 3,
   "metadata": {},
   "outputs": [],
   "source": [
    "class Dict2Class(object):\n",
    "    def __init__(self, my_dict):\n",
    "        for key in my_dict:\n",
    "            setattr(self, key, my_dict[key])"
   ]
  },
  {
   "cell_type": "code",
   "execution_count": 4,
   "metadata": {},
   "outputs": [],
   "source": [
    "device='cuda:1'"
   ]
  },
  {
   "cell_type": "code",
   "execution_count": 5,
   "metadata": {},
   "outputs": [],
   "source": [
    "def return_data_model(experiment_dir, experiment_name, organ='spleen', return_dataset=True):\n",
    "\n",
    "    checkpoint = torch.load(os.path.join(experiment_dir, experiment_name))\n",
    "    config = checkpoint['config']\n",
    "    config = Dict2Class(config)\n",
    "\n",
    "    model = build_network(config).to(device)\n",
    "    model.load_state_dict(checkpoint['model'])\n",
    "\n",
    "    dataset_config_dict = {\n",
    "        \"decimation_path\":\"/data0/practical-wise2223/organ_mesh/organ_decimations_ply/\",\n",
    "        \"registeration_path\" : \"/data0/practical-wise2223/organ_mesh/gendered_organ_registrations_ply/\",\n",
    "        \"split_path\" : '/data0/practical-wise2223/organ_mesh/data/',\n",
    "        \"root\" : '/data0/practical-wise2223/organ_mesh/organ_meshes',\n",
    "        \"basic_feat_path\" : '/data0/practical-wise2223/organ_mesh/basic_features.csv',\n",
    "        \"bridge_path\" : '/data0/practical-wise2223/organ_mesh/Bridge_eids_60520_87802.csv',\n",
    "        \"num_train_samples\": 3000,\n",
    "        \"num_test_samples\":300,\n",
    "        'batch_size': 2,\n",
    "        'task': 'bmi_prediction',\n",
    "        'use_registered_data': False,\n",
    "        \"organ\": organ\n",
    "    }\n",
    "    data_config = Dict2Class(dataset_config_dict)\n",
    "    #Data Loader\n",
    "    train_loader, test_loader = build_dataset(data_config,return_dataset)\n",
    "    #Network\n",
    "\n",
    "    return model, test_loader\n"
   ]
  },
  {
   "cell_type": "code",
   "execution_count": 6,
   "metadata": {},
   "outputs": [
    {
     "name": "stdout",
     "output_type": "stream",
     "text": [
      "Liver  train Dataset is created\n",
      "Liver  val Dataset is created\n",
      "Liver  test Dataset is created\n"
     ]
    },
    {
     "name": "stderr",
     "output_type": "stream",
     "text": [
      "/u/home/koksal/.conda/envs/caghan4/lib/python3.9/site-packages/torch_geometric/deprecation.py:12: UserWarning: 'data.DataLoader' is deprecated, use 'loader.DataLoader' instead\n",
      "  warnings.warn(out)\n"
     ]
    }
   ],
   "source": [
    "dataset_config_dict = {\n",
    "    \"decimation_path\":\"/data0/practical-wise2223/organ_mesh/organ_decimations_ply/\",\n",
    "    \"registeration_path\" : \"/data0/practical-wise2223/organ_mesh/gendered_organ_registrations_ply/\",\n",
    "    \"split_path\" : '/data0/practical-wise2223/organ_mesh/data/',\n",
    "    \"root\" : '/data0/practical-wise2223/organ_mesh/organ_meshes',\n",
    "    \"basic_feat_path\" : '/data0/practical-wise2223/organ_mesh/basic_features.csv',\n",
    "    \"bridge_path\" : '/data0/practical-wise2223/organ_mesh/Bridge_eids_60520_87802.csv',\n",
    "    \"num_train_samples\": 3000,\n",
    "    \"num_test_samples\":300,\n",
    "    'batch_size': 3000,\n",
    "    'task': 'bmi_prediction',\n",
    "    'use_registered_data': False,\n",
    "    \"organ\": 'liver',\n",
    "    \"use_scaled_data\": True,\n",
    "}\n",
    "data_config = Dict2Class(dataset_config_dict)\n",
    "#Data Loader\n",
    "train_loader, test_loader = build_dataset(data_config,return_dataset=True)"
   ]
  },
  {
   "cell_type": "code",
   "execution_count": 7,
   "metadata": {},
   "outputs": [
    {
     "ename": "AttributeError",
     "evalue": "'Dict2Class' object has no attribute 'activation'",
     "output_type": "error",
     "traceback": [
      "\u001b[0;31m---------------------------------------------------------------------------\u001b[0m",
      "\u001b[0;31mAttributeError\u001b[0m                            Traceback (most recent call last)",
      "\u001b[1;32m/u/home/koksal/organ-mesh-registration-and-property-prediction/notebooks/gnn_model.ipynb Cell 16\u001b[0m in \u001b[0;36m<cell line: 3>\u001b[0;34m()\u001b[0m\n\u001b[1;32m      <a href='vscode-notebook-cell://ssh-remote%2B131.159.110.3/u/home/koksal/organ-mesh-registration-and-property-prediction/notebooks/gnn_model.ipynb#X21sdnNjb2RlLXJlbW90ZQ%3D%3D?line=0'>1</a>\u001b[0m liver_exp_dir \u001b[39m=\u001b[39m \u001b[39m'\u001b[39m\u001b[39m/u/home/koksal/organ-mesh-registration-and-property-prediction/models/cerulean-meadow-42\u001b[39m\u001b[39m'\u001b[39m\n\u001b[1;32m      <a href='vscode-notebook-cell://ssh-remote%2B131.159.110.3/u/home/koksal/organ-mesh-registration-and-property-prediction/notebooks/gnn_model.ipynb#X21sdnNjb2RlLXJlbW90ZQ%3D%3D?line=1'>2</a>\u001b[0m liver_exp_name \u001b[39m=\u001b[39m \u001b[39m'\u001b[39m\u001b[39mclassification_organ_liver_enc_channels_512_best_testacc_0.74.pth\u001b[39m\u001b[39m'\u001b[39m\n\u001b[0;32m----> <a href='vscode-notebook-cell://ssh-remote%2B131.159.110.3/u/home/koksal/organ-mesh-registration-and-property-prediction/notebooks/gnn_model.ipynb#X21sdnNjb2RlLXJlbW90ZQ%3D%3D?line=2'>3</a>\u001b[0m model_liver, test_loader_liver \u001b[39m=\u001b[39m return_data_model(liver_exp_dir,liver_exp_name, \u001b[39m'\u001b[39;49m\u001b[39mliver\u001b[39;49m\u001b[39m'\u001b[39;49m )\n",
      "\u001b[1;32m/u/home/koksal/organ-mesh-registration-and-property-prediction/notebooks/gnn_model.ipynb Cell 16\u001b[0m in \u001b[0;36mreturn_data_model\u001b[0;34m(experiment_dir, experiment_name, organ, return_dataset)\u001b[0m\n\u001b[1;32m      <a href='vscode-notebook-cell://ssh-remote%2B131.159.110.3/u/home/koksal/organ-mesh-registration-and-property-prediction/notebooks/gnn_model.ipynb#X21sdnNjb2RlLXJlbW90ZQ%3D%3D?line=3'>4</a>\u001b[0m config \u001b[39m=\u001b[39m checkpoint[\u001b[39m'\u001b[39m\u001b[39mconfig\u001b[39m\u001b[39m'\u001b[39m]\n\u001b[1;32m      <a href='vscode-notebook-cell://ssh-remote%2B131.159.110.3/u/home/koksal/organ-mesh-registration-and-property-prediction/notebooks/gnn_model.ipynb#X21sdnNjb2RlLXJlbW90ZQ%3D%3D?line=4'>5</a>\u001b[0m config \u001b[39m=\u001b[39m Dict2Class(config)\n\u001b[0;32m----> <a href='vscode-notebook-cell://ssh-remote%2B131.159.110.3/u/home/koksal/organ-mesh-registration-and-property-prediction/notebooks/gnn_model.ipynb#X21sdnNjb2RlLXJlbW90ZQ%3D%3D?line=6'>7</a>\u001b[0m model \u001b[39m=\u001b[39m build_network(config)\u001b[39m.\u001b[39mto(device)\n\u001b[1;32m      <a href='vscode-notebook-cell://ssh-remote%2B131.159.110.3/u/home/koksal/organ-mesh-registration-and-property-prediction/notebooks/gnn_model.ipynb#X21sdnNjb2RlLXJlbW90ZQ%3D%3D?line=7'>8</a>\u001b[0m model\u001b[39m.\u001b[39mload_state_dict(checkpoint[\u001b[39m'\u001b[39m\u001b[39mmodel\u001b[39m\u001b[39m'\u001b[39m])\n\u001b[1;32m     <a href='vscode-notebook-cell://ssh-remote%2B131.159.110.3/u/home/koksal/organ-mesh-registration-and-property-prediction/notebooks/gnn_model.ipynb#X21sdnNjb2RlLXJlbW90ZQ%3D%3D?line=9'>10</a>\u001b[0m dataset_config_dict \u001b[39m=\u001b[39m {\n\u001b[1;32m     <a href='vscode-notebook-cell://ssh-remote%2B131.159.110.3/u/home/koksal/organ-mesh-registration-and-property-prediction/notebooks/gnn_model.ipynb#X21sdnNjb2RlLXJlbW90ZQ%3D%3D?line=10'>11</a>\u001b[0m     \u001b[39m\"\u001b[39m\u001b[39mdecimation_path\u001b[39m\u001b[39m\"\u001b[39m:\u001b[39m\"\u001b[39m\u001b[39m/data0/practical-wise2223/organ_mesh/organ_decimations_ply/\u001b[39m\u001b[39m\"\u001b[39m,\n\u001b[1;32m     <a href='vscode-notebook-cell://ssh-remote%2B131.159.110.3/u/home/koksal/organ-mesh-registration-and-property-prediction/notebooks/gnn_model.ipynb#X21sdnNjb2RlLXJlbW90ZQ%3D%3D?line=11'>12</a>\u001b[0m     \u001b[39m\"\u001b[39m\u001b[39mregisteration_path\u001b[39m\u001b[39m\"\u001b[39m : \u001b[39m\"\u001b[39m\u001b[39m/data0/practical-wise2223/organ_mesh/gendered_organ_registrations_ply/\u001b[39m\u001b[39m\"\u001b[39m,\n\u001b[0;32m   (...)\u001b[0m\n\u001b[1;32m     <a href='vscode-notebook-cell://ssh-remote%2B131.159.110.3/u/home/koksal/organ-mesh-registration-and-property-prediction/notebooks/gnn_model.ipynb#X21sdnNjb2RlLXJlbW90ZQ%3D%3D?line=21'>22</a>\u001b[0m     \u001b[39m\"\u001b[39m\u001b[39morgan\u001b[39m\u001b[39m\"\u001b[39m: organ\n\u001b[1;32m     <a href='vscode-notebook-cell://ssh-remote%2B131.159.110.3/u/home/koksal/organ-mesh-registration-and-property-prediction/notebooks/gnn_model.ipynb#X21sdnNjb2RlLXJlbW90ZQ%3D%3D?line=22'>23</a>\u001b[0m }\n",
      "File \u001b[0;32m~/organ-mesh-registration-and-property-prediction/src/models/train.py:143\u001b[0m, in \u001b[0;36mbuild_network\u001b[0;34m(configs)\u001b[0m\n\u001b[1;32m    142\u001b[0m \u001b[39mdef\u001b[39;00m \u001b[39mbuild_network\u001b[39m(configs):\n\u001b[0;32m--> 143\u001b[0m     activation \u001b[39m=\u001b[39m \u001b[39mgetattr\u001b[39m(nn, configs\u001b[39m.\u001b[39;49mactivation)\n\u001b[1;32m    144\u001b[0m     \u001b[39mif\u001b[39;00m configs\u001b[39m.\u001b[39mmodel\u001b[39m==\u001b[39m\u001b[39m'\u001b[39m\u001b[39mfsgnet\u001b[39m\u001b[39m'\u001b[39m:\n\u001b[1;32m    146\u001b[0m         model_params \u001b[39m=\u001b[39m \u001b[39mdict\u001b[39m(\n\u001b[1;32m    147\u001b[0m         use_input_encoder \u001b[39m=\u001b[39m configs\u001b[39m.\u001b[39muse_input_encoder,\n\u001b[1;32m    148\u001b[0m         num_classes\u001b[39m=\u001b[39mconfigs\u001b[39m.\u001b[39mnum_classes,\n\u001b[0;32m   (...)\u001b[0m\n\u001b[1;32m    159\u001b[0m         dropout \u001b[39m=\u001b[39m configs\u001b[39m.\u001b[39mdropout\n\u001b[1;32m    160\u001b[0m     ) \n",
      "\u001b[0;31mAttributeError\u001b[0m: 'Dict2Class' object has no attribute 'activation'"
     ]
    }
   ],
   "source": [
    "# LIVER MODEL\n",
    "liver_exp_dir = '/u/home/koksal/organ-mesh-registration-and-property-prediction/models/cerulean-meadow-42'\n",
    "liver_exp_name = 'classification_organ_liver_enc_channels_512_best_testacc_0.74.pth'\n",
    "model_liver, test_loader_liver = return_data_model(liver_exp_dir,liver_exp_name, 'liver' )\n",
    "\n"
   ]
  },
  {
   "cell_type": "code",
   "execution_count": 10,
   "metadata": {},
   "outputs": [],
   "source": [
    "# SPLINE Model\n",
    "spline_exp_dir = '/u/home/koksal/organ-mesh-registration-and-property-prediction/models/bright-universe-47'\n",
    "spline_exp_name = 'classification_organ_spleen_enc_channels_512_best_testacc_0.70.pth'\n",
    "model_spleen, test_loader_spleen = return_data_model(spline_exp_dir, spline_exp_name, 'spleen' )\n",
    "\n"
   ]
  },
  {
   "cell_type": "code",
   "execution_count": null,
   "metadata": {},
   "outputs": [],
   "source": [
    "#Pancreas Model\n",
    "pancreas_exp_dir = \"/u/home/koksal/organ-mesh-registration-and-property-prediction/models/feasible-bush-46\"\n",
    "pancreas_exp_name = \"classification_organ_pancreas_enc_channels_512_best_testacc_0.78.pth\"\n",
    "model_pancreas, test_loader_pancreas = return_data_model(pancreas_exp_dir, pancreas_exp_name, 'pancreas')"
   ]
  },
  {
   "cell_type": "code",
   "execution_count": null,
   "metadata": {},
   "outputs": [],
   "source": [
    "#Left Kidney Mdeol\n",
    "left_kidney_exp_dir = \"/u/home/koksal/organ-mesh-registration-and-property-prediction/models/vocal-dragon-44\"\n",
    "left_kidney_exp_name = \"classification_organ_left_kidney_enc_channels_512_best_testacc_0.75.pth\"\n",
    "\n",
    "model_left_kidney, test_loader_left_kidney = return_data_model(left_kidney_exp_dir, left_kidney_exp_name, 'left_kidney')"
   ]
  },
  {
   "cell_type": "code",
   "execution_count": null,
   "metadata": {},
   "outputs": [],
   "source": [
    "# Right Kidney Model\n",
    "right_kidney_exp_dir = '/u/home/koksal/organ-mesh-registration-and-property-prediction/models/ethereal-music-45'\n",
    "right_kidney_exp_name = \"classification_organ_right_kidney_enc_channels_512_best_testacc_0.69.pth\"\n",
    "\n",
    "model_right_kidney, test_loader_right_kidney = return_data_model(right_kidney_exp_dir, right_kidney_exp_name, 'right_kidney')"
   ]
  },
  {
   "cell_type": "code",
   "execution_count": null,
   "metadata": {},
   "outputs": [],
   "source": [
    "model_pancreas.to(device).eval()\n",
    "model_right_kidney.to(device).eval()\n",
    "model_left_kidney.to(device).eval()\n",
    "model_liver.to(device).eval()\n",
    "model_spleen.to(device).eval()\n"
   ]
  },
  {
   "cell_type": "code",
   "execution_count": null,
   "metadata": {},
   "outputs": [],
   "source": [
    "len(test_loader_pancreas)"
   ]
  },
  {
   "cell_type": "code",
   "execution_count": null,
   "metadata": {},
   "outputs": [],
   "source": [
    "# Majority Voting\n",
    "predictions_all= []\n",
    "for i in range(len(test_loader_pancreas)):\n",
    "    with torch.no_grad():\n",
    "\n",
    "        sample_prediction = []\n",
    "        #Pancreas Prediction\n",
    "        batch_pancreas = test_loader_pancreas[i]\n",
    "        prediction_pancreas = model_pancreas(batch_pancreas.to(device))\n",
    "        gt_label_pancreas = torch.tensor(batch_pancreas.y,dtype=torch.int8).unsqueeze(0).to(device)\n",
    "        predicted_seg_labels = torch.nn.Sigmoid()(prediction_pancreas)\n",
    "        #predicted_seg_labels[predicted_seg_labels>0.5] = 1\n",
    "        #predicted_seg_labels[predicted_seg_labels<0.5] = 0\n",
    "        predicted_seg_label_pancreas = torch.round(predicted_seg_labels)\n",
    "\n",
    "        sample_prediction.append(predicted_seg_label_pancreas)\n",
    "\n",
    "\n",
    "        #Left Kidney Prediction\n",
    "        batch_left_kidney = test_loader_left_kidney[i]\n",
    "        prediction_left_kidney = model_left_kidney(batch_left_kidney.to(device))\n",
    "        gt_label_left_kidney = torch.tensor(batch_left_kidney.y, dtype=torch.int8).unsqueeze(0).to(device)\n",
    "        predicted_seg_labels = torch.nn.Sigmoid()(prediction_left_kidney)\n",
    "        predicted_seg_label_left_kidney = torch.round(predicted_seg_labels)\n",
    "\n",
    "        sample_prediction.append(predicted_seg_label_left_kidney)\n",
    "\n",
    "        #Right Kidney Prediction\n",
    "        batch_right_kidney = test_loader_right_kidney[i]\n",
    "        prediction_right_kidney = model_right_kidney(batch_right_kidney.to(device))\n",
    "        gt_label_right_kidney = torch.tensor(batch_right_kidney.y, dtype=torch.int8).unsqueeze(0).to(device)\n",
    "        predicted_seg_labels = torch.nn.Sigmoid()(prediction_right_kidney)\n",
    "        predicted_seg_label_right_kidney = torch.round(predicted_seg_labels)\n",
    "\n",
    "        sample_prediction.append(predicted_seg_label_right_kidney)\n",
    "\n",
    "        #Liver Prediction\n",
    "        batch_liver = test_loader_liver[i]\n",
    "        prediction_liver = model_liver(batch_liver.to(device)).to(device)\n",
    "        gt_label_liver = torch.tensor(batch_liver.y, dtype=torch.int8).unsqueeze(0).to(device)\n",
    "        predicted_seg_labels = torch.nn.Sigmoid()(prediction_liver)\n",
    "        predicted_seg_label_liver = torch.round(predicted_seg_labels)\n",
    "\n",
    "        sample_prediction.append(predicted_seg_label_liver)\n",
    "\n",
    "        #Spleen Prediction\n",
    "        batch_spleen = test_loader_spleen[i]\n",
    "        prediction_spleen = model_spleen(batch_spleen.to(device)).to(device)\n",
    "        gt_label_spleen = torch.tensor(batch_spleen.y, dtype=torch.int8).unsqueeze(0).to(device)\n",
    "        predicted_seg_labels = torch.nn.Sigmoid()(prediction_spleen)\n",
    "        predicted_seg_label_spleen = torch.round(predicted_seg_labels)\n",
    "\n",
    "        sample_prediction.append(predicted_seg_label_spleen)\n",
    "\n",
    "\n",
    "\n",
    "\n",
    "    predictions_all.append(sample_prediction)\n",
    "\n",
    "\n",
    "\n",
    "\n"
   ]
  },
  {
   "cell_type": "code",
   "execution_count": null,
   "metadata": {},
   "outputs": [],
   "source": [
    "majority_predictions = []\n",
    "# Majority Voting \n",
    "for sample_prediction in predictions_all:\n",
    "    # Find most occuring label\n",
    "    pred = torch.mode(torch.cat(sample_prediction).squeeze(1)).values.item()\n",
    "    majority_predictions.append(pred)\n"
   ]
  },
  {
   "cell_type": "code",
   "execution_count": null,
   "metadata": {},
   "outputs": [],
   "source": [
    "correct = 0\n",
    "for i,item in enumerate(test_loader_liver):\n",
    "    gt_label = item.y\n",
    "\n",
    "    if gt_label == majority_predictions[i]:\n",
    "        correct +=1 \n",
    "\n",
    "\n",
    "    "
   ]
  },
  {
   "cell_type": "code",
   "execution_count": null,
   "metadata": {},
   "outputs": [],
   "source": [
    "#Accuracy\n",
    "correct/len(test_loader_pancreas)"
   ]
  },
  {
   "cell_type": "code",
   "execution_count": null,
   "metadata": {},
   "outputs": [],
   "source": []
  }
 ],
 "metadata": {
  "kernelspec": {
   "display_name": "Python 3",
   "language": "python",
   "name": "python3"
  },
  "language_info": {
   "codemirror_mode": {
    "name": "ipython",
    "version": 3
   },
   "file_extension": ".py",
   "mimetype": "text/x-python",
   "name": "python",
   "nbconvert_exporter": "python",
   "pygments_lexer": "ipython3",
   "version": "3.8.10"
  },
  "orig_nbformat": 4,
  "vscode": {
   "interpreter": {
    "hash": "916dbcbb3f70747c44a77c7bcd40155683ae19c65e1c03b4aa3499c5328201f1"
   }
  }
 },
 "nbformat": 4,
 "nbformat_minor": 2
}
