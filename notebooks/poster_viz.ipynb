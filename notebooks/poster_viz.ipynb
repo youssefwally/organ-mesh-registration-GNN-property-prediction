{
 "cells": [
  {
   "cell_type": "markdown",
   "metadata": {},
   "source": [
    "# Imports"
   ]
  },
  {
   "cell_type": "code",
   "execution_count": 25,
   "metadata": {},
   "outputs": [],
   "source": [
    "import os\n",
    "import pandas as pd\n",
    "import numpy as np\n",
    "#import seaborn as sns\n",
    "import matplotlib.pyplot as plt\n",
    "import math\n",
    "import open3d as o3d\n",
    "import pyvista\n",
    "import nibabel as nib\n",
    "from skimage.measure import marching_cubes\n",
    "import copy"
   ]
  },
  {
   "cell_type": "markdown",
   "metadata": {},
   "source": [
    "# Functions"
   ]
  },
  {
   "cell_type": "code",
   "execution_count": 26,
   "metadata": {},
   "outputs": [],
   "source": [
    "def pad_edge_list(edges):\n",
    "    padding = np.ones(edges.shape[0], int)*3\n",
    "    edges_w_padding = np.vstack((padding, edges.T)).T\n",
    "    return edges_w_padding\n",
    "\n",
    "def organs_data(abdominal_segmentations_data):\n",
    "    try:\n",
    "        verts1, faces1, norms1, vals1 = marching_cubes(abdominal_segmentations_data==1, level=0, step_size=1)\n",
    "        verts2, faces2, norms2, vals2 = marching_cubes(abdominal_segmentations_data==2, level=0, step_size=1)\n",
    "        verts3, faces3, norms3, vals3 = marching_cubes(abdominal_segmentations_data==3, level=0, step_size=1)\n",
    "        verts4, faces4, norms4, vals4 = marching_cubes(abdominal_segmentations_data==4, level=0, step_size=1)\n",
    "        verts5, faces5, norms5, vals5 = marching_cubes(abdominal_segmentations_data==5, level=0, step_size=1)\n",
    "        \n",
    "        verts1 = verts1/np.array(abdominal_segmentations_data.shape) \n",
    "        verts2 = verts2/np.array(abdominal_segmentations_data.shape) \n",
    "        verts3 = verts3/np.array(abdominal_segmentations_data.shape) \n",
    "        verts4 = verts4/np.array(abdominal_segmentations_data.shape) # to normalize ponit coordinate in [0,1]\n",
    "        verts5 = verts5/np.array(abdominal_segmentations_data.shape) # to normalize ponit coordinate in [0,1]\n",
    "        \n",
    "        edges1 = np.concatenate((faces1[:,:2], faces1[:,1:]), axis=0)\n",
    "        edges2 = np.concatenate((faces2[:,:2], faces2[:,1:]), axis=0)\n",
    "        edges3 = np.concatenate((faces3[:,:2], faces3[:,1:]), axis=0)\n",
    "        edges4 = np.concatenate((faces4[:,:2], faces4[:,1:]), axis=0)\n",
    "        edges5 = np.concatenate((faces5[:,:2], faces5[:,1:]), axis=0)\n",
    "\n",
    "        lines1 = np.concatenate((np.int32(2*np.ones((edges1.shape[0],1))), edges1), 1)\n",
    "        lines2 = np.concatenate((np.int32(2*np.ones((edges2.shape[0],1))), edges2), 1)\n",
    "        lines3 = np.concatenate((np.int32(2*np.ones((edges3.shape[0],1))), edges3), 1)\n",
    "        lines4 = np.concatenate((np.int32(2*np.ones((edges4.shape[0],1))), edges4), 1)\n",
    "        lines5 = np.concatenate((np.int32(2*np.ones((edges5.shape[0],1))), edges5), 1)\n",
    "        \n",
    "        mesh1 = pyvista.PolyData(verts1, pad_edge_list(faces1))\n",
    "        mesh2 = pyvista.PolyData(verts2, pad_edge_list(faces2))\n",
    "        mesh3 = pyvista.PolyData(verts3, pad_edge_list(faces3))\n",
    "        mesh4 = pyvista.PolyData(verts4, pad_edge_list(faces4))\n",
    "        mesh5 = pyvista.PolyData(verts5, pad_edge_list(faces5))\n",
    "\n",
    "        mesh1.lines = lines1.flatten()\n",
    "        mesh2.lines = lines2.flatten()\n",
    "        mesh3.lines = lines3.flatten()\n",
    "        mesh4.lines = lines4.flatten()\n",
    "        mesh5.lines = lines5.flatten()\n",
    "\n",
    "        # verts = [verts1, verts2, verts3, verts4, verts5]\n",
    "        # edges = [edges1, edges2, edges3, edges4, edges5]\n",
    "        # faces = [faces1, faces2, faces3, faces4, faces5]\n",
    "        # lines = [lines1, lines2, lines3, lines4, lines5]\n",
    "        # meshes = [mesh1, mesh2, mesh3, mesh4, mesh5]\n",
    "        # norms = [norms1, norms2, norms3, norms4, norms5]\n",
    "        # vals = [vals1, vals2, vals3, vals4, vals5]\n",
    "\n",
    "        #verts = [verts1]\n",
    "        #edges = [edges1]\n",
    "        #faces = [faces1]\n",
    "        #lines = [lines1]\n",
    "        #meshes = [mesh1]\n",
    "        #norms = [norms1]\n",
    "        #vals = [vals1]\n",
    "        \n",
    "        organ1 = [verts1, edges1, faces1, lines1, mesh1, norms1, vals1]\n",
    "        organ2 = [verts2, edges2, faces2, lines2, mesh2, norms2, vals2]\n",
    "        organ3 = [verts3, edges3, faces3, lines3, mesh3, norms3, vals3]\n",
    "        organ4 = [verts4, edges4, faces4, lines4, mesh4, norms4, vals4]\n",
    "        organ5 = [verts5, edges5, faces5, lines5, mesh5, norms5, vals5]\n",
    "\n",
    "        #data = [verts, edges, faces, lines, meshes, norms, vals]\n",
    "        organs_data = [organ1, organ2, organ3, organ4, organ5]\n",
    "        return organs_data\n",
    "    except:\n",
    "        x=0\n",
    "        \n",
    "def triangle_mesh(data):\n",
    "    verts = data[0]\n",
    "    faces = data[2]\n",
    "    mesh_list = []\n",
    "    mesh_list.append(o3d.geometry.TriangleMesh(vertices = o3d.utility.Vector3dVector(np.asarray(verts)), triangles = o3d.utility.Vector3iVector(np.asarray(faces))))\n",
    "    return mesh_list\n",
    "\n",
    "def draw_preproccessing(source, target):\n",
    "    source_temp = copy.deepcopy(source)\n",
    "    target_temp = copy.deepcopy(target)\n",
    "    source_temp.paint_uniform_color([255, 0, 0])\n",
    "    target_temp.paint_uniform_color([0, 0.3, 0.5])\n",
    "    o3d.visualization.draw_geometries([source_temp, target_temp])"
   ]
  },
  {
   "cell_type": "markdown",
   "metadata": {},
   "source": [
    "# Data"
   ]
  },
  {
   "cell_type": "code",
   "execution_count": 3,
   "metadata": {},
   "outputs": [
    {
     "name": "stderr",
     "output_type": "stream",
     "text": [
      "/tmp/ipykernel_3528693/2527619189.py:4: SettingWithCopyWarning: \n",
      "A value is trying to be set on a copy of a slice from a DataFrame\n",
      "\n",
      "See the caveats in the documentation: https://pandas.pydata.org/pandas-docs/stable/user_guide/indexing.html#returning-a-view-versus-a-copy\n",
      "  basic_features_without_nans.rename(columns = {'21003-2.0':'age', '31-0.0':'sex', '21001-2.0':'BMI', '21002-2.0':'weight', '50-2.0':'height'}, inplace = True)\n"
     ]
    },
    {
     "data": {
      "text/html": [
       "<div>\n",
       "<style scoped>\n",
       "    .dataframe tbody tr th:only-of-type {\n",
       "        vertical-align: middle;\n",
       "    }\n",
       "\n",
       "    .dataframe tbody tr th {\n",
       "        vertical-align: top;\n",
       "    }\n",
       "\n",
       "    .dataframe thead th {\n",
       "        text-align: right;\n",
       "    }\n",
       "</style>\n",
       "<table border=\"1\" class=\"dataframe\">\n",
       "  <thead>\n",
       "    <tr style=\"text-align: right;\">\n",
       "      <th></th>\n",
       "      <th>eid</th>\n",
       "      <th>age</th>\n",
       "      <th>sex</th>\n",
       "      <th>BMI</th>\n",
       "      <th>weight</th>\n",
       "      <th>height</th>\n",
       "    </tr>\n",
       "  </thead>\n",
       "  <tbody>\n",
       "    <tr>\n",
       "      <th>6</th>\n",
       "      <td>1000071</td>\n",
       "      <td>69.0</td>\n",
       "      <td>0</td>\n",
       "      <td>30.8012</td>\n",
       "      <td>74.0</td>\n",
       "      <td>155.0</td>\n",
       "    </tr>\n",
       "    <tr>\n",
       "      <th>9</th>\n",
       "      <td>1000109</td>\n",
       "      <td>75.0</td>\n",
       "      <td>0</td>\n",
       "      <td>26.5036</td>\n",
       "      <td>68.7</td>\n",
       "      <td>161.0</td>\n",
       "    </tr>\n",
       "    <tr>\n",
       "      <th>11</th>\n",
       "      <td>1000125</td>\n",
       "      <td>65.0</td>\n",
       "      <td>1</td>\n",
       "      <td>23.6488</td>\n",
       "      <td>61.3</td>\n",
       "      <td>161.0</td>\n",
       "    </tr>\n",
       "    <tr>\n",
       "      <th>17</th>\n",
       "      <td>1000180</td>\n",
       "      <td>58.0</td>\n",
       "      <td>1</td>\n",
       "      <td>32.6204</td>\n",
       "      <td>99.9</td>\n",
       "      <td>175.0</td>\n",
       "    </tr>\n",
       "    <tr>\n",
       "      <th>18</th>\n",
       "      <td>1000191</td>\n",
       "      <td>72.0</td>\n",
       "      <td>1</td>\n",
       "      <td>24.6337</td>\n",
       "      <td>83.4</td>\n",
       "      <td>184.0</td>\n",
       "    </tr>\n",
       "    <tr>\n",
       "      <th>...</th>\n",
       "      <td>...</td>\n",
       "      <td>...</td>\n",
       "      <td>...</td>\n",
       "      <td>...</td>\n",
       "      <td>...</td>\n",
       "      <td>...</td>\n",
       "    </tr>\n",
       "    <tr>\n",
       "      <th>502334</th>\n",
       "      <td>6023367</td>\n",
       "      <td>58.0</td>\n",
       "      <td>1</td>\n",
       "      <td>35.2653</td>\n",
       "      <td>118.1</td>\n",
       "      <td>183.0</td>\n",
       "    </tr>\n",
       "    <tr>\n",
       "      <th>502339</th>\n",
       "      <td>6023419</td>\n",
       "      <td>66.0</td>\n",
       "      <td>1</td>\n",
       "      <td>23.9048</td>\n",
       "      <td>69.9</td>\n",
       "      <td>171.0</td>\n",
       "    </tr>\n",
       "    <tr>\n",
       "      <th>502368</th>\n",
       "      <td>6023708</td>\n",
       "      <td>56.0</td>\n",
       "      <td>0</td>\n",
       "      <td>21.5288</td>\n",
       "      <td>57.2</td>\n",
       "      <td>163.0</td>\n",
       "    </tr>\n",
       "    <tr>\n",
       "      <th>502376</th>\n",
       "      <td>6023786</td>\n",
       "      <td>57.0</td>\n",
       "      <td>0</td>\n",
       "      <td>22.7595</td>\n",
       "      <td>56.1</td>\n",
       "      <td>157.0</td>\n",
       "    </tr>\n",
       "    <tr>\n",
       "      <th>502393</th>\n",
       "      <td>6023955</td>\n",
       "      <td>74.0</td>\n",
       "      <td>1</td>\n",
       "      <td>31.4815</td>\n",
       "      <td>102.0</td>\n",
       "      <td>180.0</td>\n",
       "    </tr>\n",
       "  </tbody>\n",
       "</table>\n",
       "<p>54243 rows × 6 columns</p>\n",
       "</div>"
      ],
      "text/plain": [
       "            eid   age  sex      BMI  weight  height\n",
       "6       1000071  69.0    0  30.8012    74.0   155.0\n",
       "9       1000109  75.0    0  26.5036    68.7   161.0\n",
       "11      1000125  65.0    1  23.6488    61.3   161.0\n",
       "17      1000180  58.0    1  32.6204    99.9   175.0\n",
       "18      1000191  72.0    1  24.6337    83.4   184.0\n",
       "...         ...   ...  ...      ...     ...     ...\n",
       "502334  6023367  58.0    1  35.2653   118.1   183.0\n",
       "502339  6023419  66.0    1  23.9048    69.9   171.0\n",
       "502368  6023708  56.0    0  21.5288    57.2   163.0\n",
       "502376  6023786  57.0    0  22.7595    56.1   157.0\n",
       "502393  6023955  74.0    1  31.4815   102.0   180.0\n",
       "\n",
       "[54243 rows x 6 columns]"
      ]
     },
     "execution_count": 3,
     "metadata": {},
     "output_type": "execute_result"
    }
   ],
   "source": [
    "basic_features = pd.read_csv(\"basic_features.csv\")\n",
    "id_bridge = pd.read_csv(\"Bridge_eids_60520_87802.csv\")\n",
    "basic_features_without_nans =  basic_features[basic_features[\"21003-2.0\"].notna()]\n",
    "basic_features_without_nans.rename(columns = {'21003-2.0':'age', '31-0.0':'sex', '21001-2.0':'BMI', '21002-2.0':'weight', '50-2.0':'height'}, inplace = True)\n",
    "basic_features_without_nans"
   ]
  },
  {
   "cell_type": "markdown",
   "metadata": {},
   "source": [
    "# Poster Visualizations"
   ]
  },
  {
   "cell_type": "markdown",
   "metadata": {},
   "source": [
    "### Patients' data distributions"
   ]
  },
  {
   "cell_type": "code",
   "execution_count": 4,
   "metadata": {},
   "outputs": [
    {
     "data": {
      "image/png": "[encoded data removed]",
      "text/plain": [
       "<Figure size 640x480 with 1 Axes>"
      ]
     },
     "metadata": {},
     "output_type": "display_data"
    }
   ],
   "source": [
    "violin_df = pd.melt(basic_features_without_nans, value_vars=['age', 'BMI', 'weight', 'height'], id_vars='sex')\n",
    "violin_df = violin_df.assign(sex=violin_df.sex.map({0: \"Female\", 1: \"Male\"}))\n",
    "violin_plot = sns.violinplot(x='variable', y='value', hue='sex', data=violin_df, split=True, legend=False)\n",
    "fig = violin_plot.get_figure()\n",
    "fig.savefig(\"violin_plot.png\") "
   ]
  },
  {
   "cell_type": "code",
   "execution_count": 31,
   "metadata": {},
   "outputs": [
    {
     "data": {
      "text/plain": [
       "<Figure size 400x300 with 0 Axes>"
      ]
     },
     "metadata": {},
     "output_type": "display_data"
    },
    {
     "data": {
      "image/png": "[encoded data removed]",
      "text/plain": [
       "<Figure size 500x500 with 1 Axes>"
      ]
     },
     "metadata": {},
     "output_type": "display_data"
    }
   ],
   "source": [
    "plt.figure(figsize=(4, 3))\n",
    "sex_df = basic_features_without_nans.assign(sex=basic_features_without_nans.sex.map({0: \"Female\", 1: \"Male\"}))\n",
    "plot = sns.catplot(x='sex', kind='count', data=sex_df)\n",
    "\n",
    "for i, bar in enumerate(plot.ax.patches):\n",
    "    h = bar.get_height()\n",
    "    plot.ax.text(\n",
    "        i, # bar index (x coordinate of text)\n",
    "        h+10, # y coordinate of text\n",
    "        '{}'.format(int(h)),  # y label\n",
    "        ha='center', \n",
    "        va='center', \n",
    "        fontweight='bold', \n",
    "        size=14)"
   ]
  },
  {
   "cell_type": "markdown",
   "metadata": {},
   "source": [
    "## Meshes Visualizations"
   ]
  },
  {
   "cell_type": "markdown",
   "metadata": {},
   "source": [
    "### Decimation"
   ]
  },
  {
   "cell_type": "code",
   "execution_count": null,
   "metadata": {},
   "outputs": [],
   "source": [
    "#process mesh data \n",
    "abdominal_segmentations = nib.load('./organ_segmentations/1000071/prd.nii.gz')\n",
    "abdominal_segmentations_data = abdominal_segmentations.get_fdata()\n",
    "data = organs_data(abdominal_segmentations_data)\n",
    "# with open3d: triangle mesh\n",
    "mesh = triangle_mesh(data[0])\n",
    "mesh.compute_vertex_normals()\n",
    "mesh.paint_uniform_color([0, 0.3, 0.5]) \n",
    "vis.create_window()\n",
    "vis.add_geometry(mesh)\n",
    "vis.poll_events()\n",
    "vis.update_renderer()\n",
    "o3d.visualization.draw_geometries([mesh])"
   ]
  },
  {
   "cell_type": "code",
   "execution_count": null,
   "metadata": {},
   "outputs": [],
   "source": [
    "dec_liver_mesh = o3d.io.read_triangle_mesh(\"./female_organ_decimations_ply/1000071/liver_mesh.ply\")\n",
    "mesh = dec_liver_mesh\n",
    "mesh.compute_vertex_normals()\n",
    "mesh.paint_uniform_color([0, 0.3, 0.5]) \n",
    "vis.create_window()\n",
    "vis.add_geometry(mesh)\n",
    "vis.poll_events()\n",
    "vis.update_renderer()\n",
    "o3d.visualization.draw_geometries([mesh])"
   ]
  },
  {
   "cell_type": "markdown",
   "metadata": {},
   "source": [
    "### Registeration"
   ]
  },
  {
   "cell_type": "code",
   "execution_count": 85,
   "metadata": {},
   "outputs": [
    {
     "name": "stdout",
     "output_type": "stream",
     "text": [
      "[Open3D WARNING] invalid color in PaintUniformColor, clipping to [0, 1]\n"
     ]
    }
   ],
   "source": [
    "#load PCD data\n",
    "src = o3d.io.read_point_cloud(\"./male_organ_decimations_ply/1000180/liver_mesh.ply\")\n",
    "target = o3d.io.read_point_cloud(\"./male_organ_decimations_ply/3849529/liver_mesh.ply\")\n",
    "\n",
    "draw_preproccessing(src, target)"
   ]
  },
  {
   "cell_type": "code",
   "execution_count": 86,
   "metadata": {},
   "outputs": [
    {
     "name": "stdout",
     "output_type": "stream",
     "text": [
      "[Open3D WARNING] invalid color in PaintUniformColor, clipping to [0, 1]\n"
     ]
    }
   ],
   "source": [
    "#load PCD data\n",
    "src = o3d.io.read_point_cloud(\"./organ_registrations_ply/1000180/liver_mesh.ply\")\n",
    "target = o3d.io.read_point_cloud(\"./organ_registrations_ply/3849529/liver_mesh.ply\")\n",
    "\n",
    "draw_preproccessing(src, target)"
   ]
  },
  {
   "cell_type": "code",
   "execution_count": 23,
   "metadata": {},
   "outputs": [],
   "source": [
    "abdominal_segmentations = nib.load('./organ_segmentations/1000071/prd.nii.gz')\n",
    "abdominal_segmentations_data = abdominal_segmentations.get_fdata()\n",
    "verts1, faces1, norms1, vals1 = marching_cubes(abdominal_segmentations_data==1, level=0, step_size=1)\n",
    "verts2, faces2, norms2, vals2 = marching_cubes(abdominal_segmentations_data==2, level=0, step_size=1)\n",
    "verts3, faces3, norms3, vals3 = marching_cubes(abdominal_segmentations_data==3, level=0, step_size=1)\n",
    "verts4, faces4, norms4, vals4 = marching_cubes(abdominal_segmentations_data==4, level=0, step_size=1)\n",
    "verts5, faces5, norms5, vals5 = marching_cubes(abdominal_segmentations_data==5, level=0, step_size=1)\n",
    "\n",
    "verts1 = verts1/np.array(abdominal_segmentations_data.shape) \n",
    "verts2 = verts2/np.array(abdominal_segmentations_data.shape) \n",
    "verts3 = verts3/np.array(abdominal_segmentations_data.shape) \n",
    "verts4 = verts4/np.array(abdominal_segmentations_data.shape) # to normalize ponit coordinate in [0,1]\n",
    "verts5 = verts5/np.array(abdominal_segmentations_data.shape) # to normalize ponit coordinate in [0,1]\n",
    "\n",
    "edges1 = np.concatenate((faces1[:,:2], faces1[:,1:]), axis=0)\n",
    "edges2 = np.concatenate((faces2[:,:2], faces2[:,1:]), axis=0)\n",
    "edges3 = np.concatenate((faces3[:,:2], faces3[:,1:]), axis=0)\n",
    "edges4 = np.concatenate((faces4[:,:2], faces4[:,1:]), axis=0)\n",
    "edges5 = np.concatenate((faces5[:,:2], faces5[:,1:]), axis=0)\n",
    "\n",
    "lines1 = np.concatenate((np.int32(2*np.ones((edges1.shape[0],1))), edges1), 1)\n",
    "lines2 = np.concatenate((np.int32(2*np.ones((edges2.shape[0],1))), edges2), 1)\n",
    "lines3 = np.concatenate((np.int32(2*np.ones((edges3.shape[0],1))), edges3), 1)\n",
    "lines4 = np.concatenate((np.int32(2*np.ones((edges4.shape[0],1))), edges4), 1)\n",
    "lines5 = np.concatenate((np.int32(2*np.ones((edges5.shape[0],1))), edges5), 1)\n",
    "\n",
    "mesh1 = pyvista.PolyData(verts1, pad_edge_list(faces1))\n",
    "mesh2 = pyvista.PolyData(verts2, pad_edge_list(faces2))\n",
    "mesh3 = pyvista.PolyData(verts3, pad_edge_list(faces3))\n",
    "mesh4 = pyvista.PolyData(verts4, pad_edge_list(faces4))\n",
    "mesh5 = pyvista.PolyData(verts5, pad_edge_list(faces5))\n",
    "\n",
    "mesh1.lines = lines1.flatten()\n",
    "mesh2.lines = lines2.flatten()\n",
    "mesh3.lines = lines3.flatten()\n",
    "mesh4.lines = lines4.flatten()\n",
    "mesh5.lines = lines5.flatten()\n",
    "organ1 = [verts1, edges1, faces1, lines1, mesh1, norms1, vals1]\n",
    "organ2 = [verts2, edges2, faces2, lines2, mesh2, norms2, vals2]\n",
    "organ3 = [verts3, edges3, faces3, lines3, mesh3, norms3, vals3]\n",
    "organ4 = [verts4, edges4, faces4, lines4, mesh4, norms4, vals4]\n",
    "organ5 = [verts5, edges5, faces5, lines5, mesh5, norms5, vals5]\n",
    "\n",
    "#data = [verts, edges, faces, lines, meshes, norms, vals]\n",
    "organs_data = [organ1, organ2, organ3, organ4, organ5]\n",
    "\n",
    "liver_mesh = triangle_mesh(organs_data[0])\n",
    "mesh = liver_mesh[0]\n",
    "mesh.compute_vertex_normals()\n",
    "mesh.paint_uniform_color([0, 0.55, 1]) \n",
    "o3d.visualization.draw_geometries([mesh], mesh_show_wireframe=True)\n",
    "#line_mesh = o3d.geometry.LineSet.create_from_triangle_mesh(mesh)\n",
    "#line_mesh.paint_uniform_color([0, 0.3, 0.5]) \n",
    "#o3d.visualization.draw_geometries([line_mesh])"
   ]
  },
  {
   "cell_type": "code",
   "execution_count": 30,
   "metadata": {},
   "outputs": [],
   "source": [
    "dec_liver_mesh = o3d.io.read_triangle_mesh(\"./female_organ_decimations_ply/1000071/pancreas_mesh.ply\")\n",
    "mesh = dec_liver_mesh\n",
    "\n",
    "mesh.compute_vertex_normals()\n",
    "mesh.paint_uniform_color([0, 0.55, 1]) \n",
    "o3d.visualization.draw_geometries([mesh], mesh_show_wireframe=True)\n",
    "#line_mesh = o3d.geometry.LineSet.create_from_triangle_mesh(mesh)\n",
    "#line_mesh.paint_uniform_color([0, 0.3, 0.5]) \n",
    "#o3d.visualization.draw_geometries([line_mesh])"
   ]
  },
  {
   "cell_type": "code",
   "execution_count": null,
   "metadata": {},
   "outputs": [],
   "source": []
  }
 ],
 "metadata": {
  "kernelspec": {
   "display_name": "Python 3 (ipykernel)",
   "language": "python",
   "name": "python3"
  },
  "language_info": {
   "codemirror_mode": {
    "name": "ipython",
    "version": 3
   },
   "file_extension": ".py",
   "mimetype": "text/x-python",
   "name": "python",
   "nbconvert_exporter": "python",
   "pygments_lexer": "ipython3",
   "version": "3.8.15"
  },
  "vscode": {
   "interpreter": {
    "hash": "cba367608960de0b5b23f8b961c313d98a87d0fe60a8de8770db5d2f16c77c76"
   }
  }
 },
 "nbformat": 4,
 "nbformat_minor": 4
}
