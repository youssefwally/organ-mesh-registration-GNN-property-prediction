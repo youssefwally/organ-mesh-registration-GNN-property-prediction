{
 "cells": [
  {
   "attachments": {},
   "cell_type": "markdown",
   "metadata": {},
   "source": [
    "# Choosing GPU device"
   ]
  },
  {
   "cell_type": "code",
   "execution_count": null,
   "metadata": {},
   "outputs": [
    {
     "name": "stdout",
     "output_type": "stream",
     "text": [
      "env: CUDA_DEVICE_ORDER=PCI_BUS_ID\n",
      "env: CUDA_VISIBLE_DEVICES=6\n",
      "1\n",
      "CUDA:0 NVIDIA A40, 45434.1875MB\n"
     ]
    },
    {
     "name": "stderr",
     "output_type": "stream",
     "text": [
      "/u/home/wyo/.conda/envs/mesh_gnn_organ/lib/python3.8/site-packages/torch/cuda/__init__.py:125: UserWarning: \n",
      "NVIDIA A40 with CUDA capability sm_86 is not compatible with the current PyTorch installation.\n",
      "The current PyTorch install supports CUDA capabilities sm_37 sm_50 sm_60 sm_61 sm_70 sm_75 compute_37.\n",
      "If you want to use the NVIDIA A40 GPU with PyTorch, please check the instructions at https://pytorch.org/get-started/locally/\n",
      "\n",
      "  warnings.warn(incompatible_device_warn.format(device_name, capability, \" \".join(arch_list), device_name))\n"
     ]
    }
   ],
   "source": [
    "import os\n",
    "import torch\n",
    "\n",
    "#os.environ[\"CUDA_DEVICE_ORDER\"]=\"PCI_BUS_ID\"   \n",
    "#os.environ[\"CUDA_VISIBLE_DEVICES\"]=\"1\"  \n",
    "#\n",
    "#os.environ[\"CUDA_DEVICE_ORDER\"]=\"PCI_BUS_ID\"   \n",
    "#os.environ[\"CUDA_VISIBLE_DEVICES\"]=\"cuda:1\"  \n",
    "#\n",
    "#\n",
    "#os.environ[\"CUDA_DEVICE_ORDER\"]=\"PCI_BUS_ID\"  \n",
    "#os.environ[\"device\"]=\"cuda:1\"  # device = \"cuda:1\"\n",
    "\n",
    "%env CUDA_DEVICE_ORDER=PCI_BUS_ID\n",
    "%env CUDA_VISIBLE_DEVICES=6\n",
    "\n",
    "#%env CUDA_DEVICE_ORDER=PCI_BUS_ID\n",
    "#%env CUDA_VISIBLE_DEVICES=cuda:1\n",
    "\n",
    "#torch.device(\"cuda:1\")\n",
    "\n",
    "print(torch.cuda.device_count())\n",
    "for i in range(torch.cuda.device_count()):\n",
    "    info = torch.cuda.get_device_properties(i)\n",
    "    print(f\"CUDA:{i} {info.name}, {info.total_memory / 1024 ** 2}MB\")"
   ]
  },
  {
   "cell_type": "code",
   "execution_count": null,
   "metadata": {},
   "outputs": [],
   "source": [
    "# GPU picking\n",
    "# http://stackoverflow.com/a/41638727/419116\n",
    "# Nvidia-smi GPU memory parsing.\n",
    "# Tested on nvidia-smi 370.23\n",
    "\n",
    "def run_command(cmd):\n",
    "    \"\"\"Run command, return output as string.\"\"\"\n",
    "    \n",
    "    output = subprocess.Popen(cmd, stdout=subprocess.PIPE, shell=True).communicate()[0]\n",
    "    return output.decode(\"ascii\")\n",
    "\n",
    "def list_available_gpus():\n",
    "    \"\"\"Returns list of available GPU ids.\"\"\"\n",
    "    \n",
    "    output = run_command(\"nvidia-smi -L\")\n",
    "    # lines of the form GPU 0: TITAN X\n",
    "    gpu_regex = re.compile(r\"GPU (?P<gpu_id>\\d+):\")\n",
    "    result = []\n",
    "    for line in output.strip().split(\"\\n\"):\n",
    "        m = gpu_regex.match(line)\n",
    "        assert m, \"Couldnt parse \"+line\n",
    "        result.append(int(m.group(\"gpu_id\")))\n",
    "    return result\n",
    "\n",
    "def gpu_memory_map():\n",
    "    \"\"\"Returns map of GPU id to memory allocated on that GPU.\"\"\"\n",
    "\n",
    "    output = run_command(\"nvidia-smi\")\n",
    "    gpu_output = output[output.find(\"GPU Memory\"):]\n",
    "    # lines of the form\n",
    "    # |    0      8734    C   python                                       11705MiB |\n",
    "    memory_regex = re.compile(r\"[|]\\s+?(?P<gpu_id>\\d+)\\D+?(?P<pid>\\d+).+[ ](?P<gpu_memory>\\d+)MiB\")\n",
    "    rows = gpu_output.split(\"\\n\")\n",
    "    result = {gpu_id: 0 for gpu_id in list_available_gpus()}\n",
    "    for row in gpu_output.split(\"\\n\"):\n",
    "        m = memory_regex.search(row)\n",
    "        if not m:\n",
    "            continue\n",
    "        gpu_id = int(m.group(\"gpu_id\"))\n",
    "        gpu_memory = int(m.group(\"gpu_memory\"))\n",
    "        result[gpu_id] += gpu_memory\n",
    "    return result\n",
    "\n",
    "def pick_gpu_lowest_memory():\n",
    "    \"\"\"Returns GPU with the least allocated memory\"\"\"\n",
    "\n",
    "    memory_gpu_map = [(memory, gpu_id) for (gpu_id, memory) in gpu_memory_map().items()]\n",
    "    best_memory, best_gpu = sorted(memory_gpu_map)[0]\n",
    "    return best_gpu\n",
    "\n",
    "def setup_one_gpu():\n",
    "    assert not 'tensorflow' in sys.modules, \"GPU setup must happen before importing TensorFlow\"\n",
    "    gpu_id = pick_gpu_lowest_memory()\n",
    "    print(\"Picking GPU \"+str(gpu_id))\n",
    "    os.environ[\"CUDA_DEVICE_ORDER\"]=\"PCI_BUS_ID\"\n",
    "    os.environ[\"CUDA_VISIBLE_DEVICES\"] = str(gpu_id)\n",
    "\n",
    "def setup_no_gpu():\n",
    "    if 'tensorflow' in sys.modules:\n",
    "        print(\"Warning, GPU setup must happen before importing TensorFlow\")\n",
    "    os.environ[\"CUDA_VISIBLE_DEVICES\"] = ''"
   ]
  },
  {
   "cell_type": "code",
   "execution_count": null,
   "metadata": {},
   "outputs": [],
   "source": [
    "setup_one_gpu()"
   ]
  },
  {
   "attachments": {},
   "cell_type": "markdown",
   "metadata": {},
   "source": [
    "# Choosing Conda Environment"
   ]
  },
  {
   "cell_type": "code",
   "execution_count": 3,
   "metadata": {},
   "outputs": [
    {
     "name": "stdout",
     "output_type": "stream",
     "text": [
      "# conda environments:\n",
      "#\n",
      "base                     /opt/anaconda3\n",
      "mesh_gnn_organ        *  /u/home/wyo/.conda/envs/mesh_gnn_organ\n",
      "model_gnn_organ          /u/home/wyo/.conda/envs/model_gnn_organ\n",
      "organ_mesh_gnn_model     /u/home/wyo/.conda/envs/organ_mesh_gnn_model\n",
      "\n"
     ]
    }
   ],
   "source": [
    "os.environ[\"CONDA_EXE\"] = \"/u/home/wyo/.conda/envs/mesh_gnn_organ/bin/conda\"\n",
    "os.environ[\"CONDA_PREFIX\"] = \"/u/home/wyo/.conda/envs/mesh_gnn_organ\"\n",
    "!conda info --envs"
   ]
  },
  {
   "cell_type": "markdown",
   "metadata": {},
   "source": [
    "# Imports"
   ]
  },
  {
   "cell_type": "code",
   "execution_count": 4,
   "metadata": {},
   "outputs": [],
   "source": [
    "import subprocess, re, os, sys\n",
    "import matplotlib.pyplot as plt\n",
    "import nibabel as nib\n",
    "from mpl_toolkits.mplot3d.art3d import Poly3DCollection\n",
    "import pyvista\n",
    "from skimage.measure import marching_cubes\n",
    "import numpy as np\n",
    "import shutil\n",
    "from itertools import permutations\n",
    "import json\n",
    "import torch \n",
    "import pandas as pd\n",
    "import copy\n",
    "import os\n",
    "from sklearn import preprocessing\n",
    "from sklearn.preprocessing import MinMaxScaler"
   ]
  },
  {
   "cell_type": "code",
   "execution_count": 5,
   "metadata": {},
   "outputs": [],
   "source": [
    "import open3d as o3d"
   ]
  },
  {
   "cell_type": "markdown",
   "metadata": {},
   "source": [
    "# Functions"
   ]
  },
  {
   "cell_type": "code",
   "execution_count": 9,
   "metadata": {
    "tags": []
   },
   "outputs": [],
   "source": [
    "root_path = '/data0/practical-wise2223/organ_mesh/'\n",
    "\n",
    "#Reading and Loading\n",
    "def pad_edge_list(edges):\n",
    "    padding = np.ones(edges.shape[0], int)*3\n",
    "    edges_w_padding = np.vstack((padding, edges.T)).T\n",
    "    return edges_w_padding\n",
    "\n",
    "def organs_data(abdominal_segmentations_data, dir):\n",
    "    try:\n",
    "        verts1, faces1, norms1, vals1 = marching_cubes(abdominal_segmentations_data==1, level=0, step_size=1)\n",
    "        verts2, faces2, norms2, vals2 = marching_cubes(abdominal_segmentations_data==2, level=0, step_size=1)\n",
    "        verts3, faces3, norms3, vals3 = marching_cubes(abdominal_segmentations_data==3, level=0, step_size=1)\n",
    "        verts4, faces4, norms4, vals4 = marching_cubes(abdominal_segmentations_data==4, level=0, step_size=1)\n",
    "        verts5, faces5, norms5, vals5 = marching_cubes(abdominal_segmentations_data==5, level=0, step_size=1)\n",
    "        \n",
    "        verts1 = verts1/np.array(abdominal_segmentations_data.shape) \n",
    "        verts2 = verts2/np.array(abdominal_segmentations_data.shape) \n",
    "        verts3 = verts3/np.array(abdominal_segmentations_data.shape) \n",
    "        verts4 = verts4/np.array(abdominal_segmentations_data.shape) # to normalize ponit coordinate in [0,1]\n",
    "        verts5 = verts5/np.array(abdominal_segmentations_data.shape) # to normalize ponit coordinate in [0,1]\n",
    "        \n",
    "        edges1 = np.concatenate((faces1[:,:2], faces1[:,1:]), axis=0)\n",
    "        edges2 = np.concatenate((faces2[:,:2], faces2[:,1:]), axis=0)\n",
    "        edges3 = np.concatenate((faces3[:,:2], faces3[:,1:]), axis=0)\n",
    "        edges4 = np.concatenate((faces4[:,:2], faces4[:,1:]), axis=0)\n",
    "        edges5 = np.concatenate((faces5[:,:2], faces5[:,1:]), axis=0)\n",
    "\n",
    "        lines1 = np.concatenate((np.int32(2*np.ones((edges1.shape[0],1))), edges1), 1)\n",
    "        lines2 = np.concatenate((np.int32(2*np.ones((edges2.shape[0],1))), edges2), 1)\n",
    "        lines3 = np.concatenate((np.int32(2*np.ones((edges3.shape[0],1))), edges3), 1)\n",
    "        lines4 = np.concatenate((np.int32(2*np.ones((edges4.shape[0],1))), edges4), 1)\n",
    "        lines5 = np.concatenate((np.int32(2*np.ones((edges5.shape[0],1))), edges5), 1)\n",
    "        \n",
    "        mesh1 = pyvista.PolyData(verts1, pad_edge_list(faces1))\n",
    "        mesh2 = pyvista.PolyData(verts2, pad_edge_list(faces2))\n",
    "        mesh3 = pyvista.PolyData(verts3, pad_edge_list(faces3))\n",
    "        mesh4 = pyvista.PolyData(verts4, pad_edge_list(faces4))\n",
    "        mesh5 = pyvista.PolyData(verts5, pad_edge_list(faces5))\n",
    "\n",
    "        mesh1.lines = lines1.flatten()\n",
    "        mesh2.lines = lines2.flatten()\n",
    "        mesh3.lines = lines3.flatten()\n",
    "        mesh4.lines = lines4.flatten()\n",
    "        mesh5.lines = lines5.flatten()\n",
    "\n",
    "        # verts = [verts1, verts2, verts3, verts4, verts5]\n",
    "        # edges = [edges1, edges2, edges3, edges4, edges5]\n",
    "        # faces = [faces1, faces2, faces3, faces4, faces5]\n",
    "        # lines = [lines1, lines2, lines3, lines4, lines5]\n",
    "        # meshes = [mesh1, mesh2, mesh3, mesh4, mesh5]\n",
    "        # norms = [norms1, norms2, norms3, norms4, norms5]\n",
    "        # vals = [vals1, vals2, vals3, vals4, vals5]\n",
    "\n",
    "        #verts = [verts1]\n",
    "        #edges = [edges1]\n",
    "        #faces = [faces1]\n",
    "        #lines = [lines1]\n",
    "        #meshes = [mesh1]\n",
    "        #norms = [norms1]\n",
    "        #vals = [vals1]\n",
    "        \n",
    "        organ1 = [verts1, edges1, faces1, lines1, mesh1, norms1, vals1]\n",
    "        organ2 = [verts2, edges2, faces2, lines2, mesh2, norms2, vals2]\n",
    "        organ3 = [verts3, edges3, faces3, lines3, mesh3, norms3, vals3]\n",
    "        organ4 = [verts4, edges4, faces4, lines4, mesh4, norms4, vals4]\n",
    "        organ5 = [verts5, edges5, faces5, lines5, mesh5, norms5, vals5]\n",
    "\n",
    "        #data = [verts, edges, faces, lines, meshes, norms, vals]\n",
    "        organs_data = [organ1, organ2, organ3, organ4, organ5]\n",
    "        return organs_data\n",
    "    except:\n",
    "        x=0\n",
    "\n",
    "\n",
    "def load_point_cloud(i, path):\n",
    "    paint = np.asarray([i*130, i*100, i*120])/255.0\n",
    "    pcd = o3d.io.read_point_cloud(path)\n",
    "    pcd.estimate_normals()\n",
    "    pcd_normals = pcd.paint_uniform_color(paint)\n",
    "    return pcd_normals  \n",
    "\n",
    "def load_point_clouds(voxel_size, organ_index):\n",
    "    paint1 = np.asarray([0, 255, 0])/255.0\n",
    "    paint2 = np.asarray([0, 0, 0])/255.0\n",
    "    paint3 = np.asarray([0, 0, 255])/255.0\n",
    "    paint4 = np.asarray([255, 0, 0])/255.0\n",
    "    paint5 = np.asarray([255, 0, 255])/255.0\n",
    "    paint6 = np.asarray([255, 255, 0])/255.0\n",
    "    paint7 = np.asarray([0, 255, 255])/255.0\n",
    "    paints = [paint1, paint2, paint3, paint4, paint5, paint6, paint7]\n",
    "    pcd = o3d.geometry.PointCloud()\n",
    "    pcds = []\n",
    "    i = 0\n",
    "    decimations_path = \"organ_decimations_ply\"\n",
    "    registrations_path = \"organ_registrations_ply\"\n",
    "    gendered_registrations_path = \"gendered_organ_registrations_ply\"\n",
    "    organs = [\"liver_mesh.ply\", \"spleen_mesh.ply\", \"left_kidney_mesh.ply\", \"right_kidney_mesh.ply\", \"pancreas_mesh.ply\"]\n",
    "    path = registrations_path\n",
    "    #path = \"server_regs\"\n",
    "    #path = \"organ_registrations_ply_p2p\"\n",
    "    for _root, dirs, _file_list in os.walk(path):\n",
    "        for dir in dirs:\n",
    "            if(dir != \".ipynb_checkpoints\"):\n",
    "                paint = paints[i]\n",
    "                i = i + 1\n",
    "                pcd = o3d.io.read_point_cloud(os.path.join(root_path, path, dir, organs[organ_index]))\n",
    "                #pcd.estimate_normals()\n",
    "                #pcd_down = pcd.voxel_down_sample(voxel_size=voxel_size)\n",
    "                pcd_down = pcd.paint_uniform_color(paint)\n",
    "                pcds.append(pcd_down)\n",
    "    return pcds\n",
    "\n",
    "#Processing and Analysis\n",
    "def triangle_mesh(data):\n",
    "    verts = data[0]\n",
    "    faces = data[2]\n",
    "    mesh_list = []\n",
    "    mesh_list.append(o3d.geometry.TriangleMesh(vertices = o3d.utility.Vector3dVector(np.asarray(verts)), triangles = o3d.utility.Vector3iVector(np.asarray(faces))))\n",
    "    return mesh_list\n",
    "\n",
    "def get_min_point_triangle():\n",
    "    min_vertices = [np.nan, np.nan, np.nan, np.nan, np.nan]\n",
    "    min_triangles = [np.nan, np.nan, np.nan, np.nan, np.nan]\n",
    "    sum_vertices = [0,0,0,0,0]\n",
    "    sum_triangles = [0,0,0,0,0]\n",
    "    count = [0,0,0,0,0]\n",
    "    min_vertices_mesh = [np.nan, np.nan, np.nan, np.nan, np.nan]\n",
    "    min_triangles_mesh = [np.nan, np.nan, np.nan, np.nan, np.nan]\n",
    "    empty_files = []\n",
    "    bad_qual = []\n",
    "    path_to_segmentations = \"organ_segmentations\"\n",
    "    for _root, dirs, _file_list in os.walk(path_to_segmentations):\n",
    "        for dir in dirs:\n",
    "            if(os.path.exists(os.path.join(root_path, path_to_segmentations, dir, \"prd.nii.gz\"))):\n",
    "                abdominal_segmentations = nib.load(os.path.join(path_to_segmentations, dir, \"prd.nii.gz\"))\n",
    "                abdominal_segmentations_data = abdominal_segmentations.get_fdata()\n",
    "\n",
    "                data = organs_data(abdominal_segmentations_data, dir)\n",
    "                if(data is not None):\n",
    "                    mesh_list = triangle_mesh(data[0], data[2])\n",
    "                    \n",
    "                    for i in range(0, len(mesh_list)):\n",
    "                        sum_vertices[i] = sum_vertices[i] + len(np.asarray(mesh_list[i].vertices)) \n",
    "                        sum_triangles[i] = sum_triangles[i] + len(np.asarray(mesh_list[i].triangles))\n",
    "                        count[i] = count[i] + 1 \n",
    "                        if(len(np.asarray(mesh_list[i].vertices)) < 2000):\n",
    "                            print(\"Less than 2000 points: {}\".format(dir))\n",
    "                            bad_qual.append(dir)\n",
    "                        else:\n",
    "                            if(np.isnan(min_triangles[i])):\n",
    "                                min_triangles[i] = len(np.asarray(mesh_list[i].triangles))\n",
    "                                min_triangles_mesh[i] = dir\n",
    "                            if(len(np.asarray(mesh_list[i].triangles)) < min_triangles[i]):\n",
    "                                min_triangles[i] = len(np.asarray(mesh_list[i].triangles))\n",
    "                                min_triangles_mesh[i] = dir\n",
    "\n",
    "                            if(np.isnan(min_vertices[i])):\n",
    "                                min_vertices[i] = len(np.asarray(mesh_list[i].vertices))\n",
    "                                min_vertices_mesh[i] = dir\n",
    "                            if(len(np.asarray(mesh_list[i].vertices)) < min_vertices[i]):\n",
    "                                min_vertices[i] = len(np.asarray(mesh_list[i].vertices))\n",
    "                                min_vertices_mesh[i] = dir\n",
    "            else:\n",
    "                empty_files.append(dir)\n",
    "\n",
    "    minimums = [min_vertices, min_triangles]\n",
    "    vert_avg = [i / j for i, j in zip(sum_vertices, count)]\n",
    "    triangle_avg = [[i / j for i, j in zip(sum_triangles, count)]]\n",
    "    averages = [vert_avg, triangle_avg]\n",
    "    files = [min_vertices_mesh, min_triangles_mesh]\n",
    "    return files, minimums, averages, empty_files, bad_qual\n",
    "\n",
    "def get_average(lst):\n",
    "    return sum(lst) / len(lst)\n",
    "\n",
    "def baseline_L1loss(data, label):\n",
    "    mean = get_average(data[label])\n",
    "    total = 0\n",
    "    for label in data[label]:\n",
    "        total = total + abs(label - mean)\n",
    "    return total/len(data[label])\n",
    "\n",
    "def normalize(data, column):\n",
    "    data_without_nans = data[data.notna()]\n",
    "    data_without_nans[column] = MinMaxScaler().fit_transform(np.array(data_without_nans[column]).reshape(-1,1))\n",
    "    data_without_nans.to_csv(os.path.join(root_path, 'normalized_basic_features.csv')) \n",
    "    \n",
    "\n",
    "#Decimation\n",
    "def dec_triangle_mesh_ply(dec):\n",
    "    segmentations_path = \"organ_segmentations\"\n",
    "    decimations_path = \"organ_decimations_ply\"\n",
    "    organs = [\"liver_mesh.ply\", \"spleen_mesh.ply\", \"left_kidney_mesh.ply\", \"right_kidney_mesh.ply\", \"pancreas_mesh.ply\"]\n",
    "    empty_files = []\n",
    "    path = root_path\n",
    "    if(not os.path.exists(os.path.join(path, decimations_path))):\n",
    "                                os.mkdir(os.path.join(path, decimations_path))\n",
    "    dirs = next(os.walk(os.path.join(path, segmentations_path)))[1]\n",
    "    for dir in dirs:\n",
    "        dec_already_done = True\n",
    "        for i in range(0, len(organs)):\n",
    "                if(not os.path.exists(os.path.join(path, decimations_path, str(dir) , organs[i]))):\n",
    "                    dec_already_done = False\n",
    "        \n",
    "        if(not dec_already_done):\n",
    "            if(os.path.exists(os.path.join(path, segmentations_path, dir, \"prd.nii.gz\"))):\n",
    "                abdominal_segmentations = nib.load(os.path.join(path, segmentations_path, dir, \"prd.nii.gz\"))\n",
    "                abdominal_segmentations_data = abdominal_segmentations.get_fdata()\n",
    "                try:\n",
    "                    organs_info = organs_data(abdominal_segmentations_data, dir)\n",
    "                    if(organs_info is not None):\n",
    "                        for i in range(0, len(organs_info)):\n",
    "                            data = organs_info[i]\n",
    "                            if(data is not None):\n",
    "                                mesh_list = triangle_mesh(data)\n",
    "                                for j in range(0, len(mesh_list)):\n",
    "                                    dec_mesh = o3d.geometry.TriangleMesh.simplify_quadric_decimation(mesh_list[j], dec)\n",
    "                                    dec_mesh_path = os.path.join(path, decimations_path, dir, organs[i])\n",
    "                                    if(not os.path.exists(os.path.join(path, decimations_path, str(dir)))):\n",
    "                                        os.mkdir(os.path.join(path, decimations_path, str(dir)))\n",
    "                                    o3d.io.write_triangle_mesh(dec_mesh_path, dec_mesh, print_progress=True, write_ascii=True)\n",
    "                            if(data is None):\n",
    "                                empty_files.append(dir)\n",
    "                    else:\n",
    "                        empty_files.append(dir)\n",
    "                except:\n",
    "                    x = str(dir)\n",
    "                    print(\"Error!!!: %s\" %x)\n",
    "                    empty_files.append(dir)\n",
    "    return empty_files\n",
    "\n",
    "def gender_split_decimations():\n",
    "    path = root_path\n",
    "    decimations_path = \"organ_decimations_ply/\"\n",
    "    \n",
    " \n",
    "\n",
    "    male_mesh_ids = np.loadtxt(os.path.join(path, \"male_mesh_ids.csv\"),\n",
    "                 delimiter=\",\", dtype=str)\n",
    "    female_mesh_ids = np.loadtxt(os.path.join(path, \"female_mesh_ids.csv\"),\n",
    "                 delimiter=\",\", dtype=str)\n",
    "    dirs = next(os.walk(os.path.join(path, decimations_path)))[1]\n",
    "    if(not os.path.exists(os.path.join(path, \"male_organ_decimations_ply/\"))):\n",
    "        os.mkdir(os.path.join(path, \"male_organ_decimations_ply/\"))\n",
    "    if(not os.path.exists(os.path.join(path, \"female_organ_decimations_ply/\"))):\n",
    "        os.mkdir(os.path.join(path, \"female_organ_decimations_ply/\"))\n",
    "    \n",
    "    for dir in dirs:\n",
    "        if(dir in male_mesh_ids):\n",
    "            if(not os.path.exists(os.path.join(path, \"male_organ_decimations_ply/\", str(dir)))):\n",
    "                os.mkdir(os.path.join(path, \"male_organ_decimations_ply/\", str(dir)))\n",
    "            files = next(os.walk(os.path.join(path, decimations_path, str(dir))))[2]\n",
    "            for file in files:\n",
    "                src = os.path.join(path, decimations_path, str(dir), str(file))\n",
    "                dst = os.path.join(path, \"male_organ_decimations_ply/\", str(dir), str(file))\n",
    "                if(not os.path.exists(os.path.join(path, \"male_organ_decimations_ply/\", str(dir), str(file)))):\n",
    "                    shutil.copyfile(src, dst)\n",
    "        if(dir in female_mesh_ids):\n",
    "            if(not os.path.exists(os.path.join(path, \"female_organ_decimations_ply/\", str(dir)))):\n",
    "                os.mkdir(os.path.join(path, \"female_organ_decimations_ply/\", str(dir)))\n",
    "            files = next(os.walk(os.path.join(path, decimations_path, str(dir))))[2]\n",
    "            for file in files:\n",
    "                src = os.path.join(path, decimations_path, str(dir), str(file))\n",
    "                dst = os.path.join(path, \"female_organ_decimations_ply/\", str(dir), str(file))\n",
    "                if(not os.path.exists(os.path.join(path, \"female_organ_decimations_ply/\", str(dir), str(file)))):\n",
    "                    shutil.copyfile(src, dst)\n",
    "    \n",
    "    male_dirs = len(next(os.walk(os.path.join(path, \"male_organ_decimations_ply/\")))[1])\n",
    "    female_dirs = len(next(os.walk(os.path.join(path, \"female_organ_decimations_ply/\")))[1])\n",
    "    male_count = len(male_mesh_ids)\n",
    "    female_count = len(female_mesh_ids)\n",
    "    stats = [male_count, male_dirs, female_count, female_dirs]\n",
    "    print(\"done\")\n",
    "    return stats\n",
    "  \n",
    "\n",
    "#Registeration  \n",
    "def pairwise_registration(source, target, voxel_size, max_correspondence_distance_coarse, max_correspondence_distance_fine):\n",
    "    print(\"Apply point-to-plane ICP\")\n",
    "    icp_coarse = o3d.pipelines.registration.registration_icp(\n",
    "        source, target, max_correspondence_distance_coarse, np.identity(4),\n",
    "        o3d.pipelines.registration.TransformationEstimationPointToPlane())\n",
    "    icp_fine = o3d.pipelines.registration.registration_icp(\n",
    "        source, target, max_correspondence_distance_fine,\n",
    "        icp_coarse.transformation,\n",
    "        o3d.pipelines.registration.TransformationEstimationPointToPlane())\n",
    "    transformation_icp = icp_fine.transformation\n",
    "    information_icp = o3d.pipelines.registration.get_information_matrix_from_point_clouds(\n",
    "        source, target, max_correspondence_distance_fine,\n",
    "        icp_fine.transformation)\n",
    "    return transformation_icp, information_icp\n",
    "\n",
    "\n",
    "def full_registration(pcds, voxel_size, max_correspondence_distance_coarse,\n",
    "                      max_correspondence_distance_fine):\n",
    "    pose_graph = o3d.pipelines.registration.PoseGraph()\n",
    "    odometry = np.identity(4)\n",
    "    pose_graph.nodes.append(o3d.pipelines.registration.PoseGraphNode(odometry))\n",
    "    n_pcds = len(pcds)\n",
    "    for source_id in range(n_pcds):\n",
    "        for target_id in range(source_id + 1, n_pcds):\n",
    "            transformation_icp, information_icp = pairwise_registration(\n",
    "                pcds[source_id], pcds[target_id], voxel_size, max_correspondence_distance_coarse, max_correspondence_distance_fine)\n",
    "            print(\"Build o3d.pipelines.registration.PoseGraph\")\n",
    "            if target_id == source_id + 1:  # odometry case\n",
    "                odometry = np.dot(transformation_icp, odometry)\n",
    "                pose_graph.nodes.append(\n",
    "                    o3d.pipelines.registration.PoseGraphNode(\n",
    "                        np.linalg.inv(odometry)))\n",
    "                pose_graph.edges.append(\n",
    "                    o3d.pipelines.registration.PoseGraphEdge(source_id,\n",
    "                                                             target_id,\n",
    "                                                             transformation_icp,\n",
    "                                                             information_icp,\n",
    "                                                             uncertain=False))\n",
    "            else:  # loop closure case\n",
    "                pose_graph.edges.append(\n",
    "                    o3d.pipelines.registration.PoseGraphEdge(source_id,\n",
    "                                                             target_id,\n",
    "                                                             transformation_icp,\n",
    "                                                             information_icp,\n",
    "                                                             uncertain=True))\n",
    "    return pose_graph\n",
    "\n",
    "\n",
    "\n",
    "def register_meshes(gender):\n",
    "    path = root_path\n",
    "    decimations_path = f'{gender}_organ_decimations_ply' #change for ungendered\n",
    "    registrations_path = \"gendered_organ_registrations_ply\" #change for ungendered\n",
    "    organs = [\"liver_mesh.ply\", \"spleen_mesh.ply\", \"left_kidney_mesh.ply\", \"right_kidney_mesh.ply\", \"pancreas_mesh.ply\"]\n",
    "    targets = []\n",
    "    #sources_names = []\n",
    "    empty_files = 0\n",
    "    \n",
    "    if(not os.path.exists(os.path.join(path, registrations_path))):\n",
    "        os.mkdir(os.path.join(path, registrations_path))\n",
    "        \n",
    "            \n",
    "    pcd = o3d.geometry.PointCloud()\n",
    "    dirs = next(os.walk(os.path.join(path, decimations_path)))[1]\n",
    "    #target_index = next(os.walk(os.path.join(path, decimations_path)))[1][0]\n",
    "    if(gender == \"female\"):\n",
    "        target_index = \"2635627\"\n",
    "    if(gender == \"male\"):\n",
    "        target_index = \"2901448\"\n",
    "    print(target_index)\n",
    "    \n",
    "    for i in range(0, len(organs)):\n",
    "        target_path = os.path.join(path, decimations_path, target_index, organs[i])\n",
    "        target = load_point_cloud(0, target_path)\n",
    "        if(not os.path.exists(os.path.join(path, registrations_path, target_index))):\n",
    "            os.mkdir(os.path.join(path, registrations_path, target_index))\n",
    "        o3d.io.write_point_cloud(os.path.join(path, registrations_path, target_index , organs[i]), target, print_progress=True, write_ascii=True)\n",
    "        targets.append(target)\n",
    "        #sources_names.append(organs[i])\n",
    "         \n",
    "    dirs.remove(target_index)   \n",
    "    colour_index = 1\n",
    "    voxel_size = 0.02\n",
    "    max_correspondence_distance_coarse = voxel_size * 15\n",
    "    max_correspondence_distance_fine = voxel_size * 1.5\n",
    "    \n",
    "    for dir in dirs:\n",
    "        reg_already_done = True\n",
    "        for i in range(0, len(organs)):\n",
    "            if(not os.path.exists(os.path.join(path, registrations_path, str(dir) , organs[i]))):\n",
    "                reg_already_done = False\n",
    "                \n",
    "        if(not reg_already_done):\n",
    "            for i in range(0, len(organs)):\n",
    "                if(os.path.exists(os.path.join(path, decimations_path, str(dir) , organs[i]))):\n",
    "                    pcds = []\n",
    "                    source_path = os.path.join(path, decimations_path, str(dir) , organs[i])\n",
    "                    source = load_point_cloud(colour_index, source_path)\n",
    "                    colour_index = colour_index + 1\n",
    "                    pcds = [targets[i], source]\n",
    "                    #draw_preproccessing(pcds[1], pcds[0])\n",
    "                    \n",
    "                    #pairwise reg\n",
    "                    with o3d.utility.VerbosityContextManager(o3d.utility.VerbosityLevel.Debug) as cm:\n",
    "                        pose_graph = full_registration(pcds, voxel_size, max_correspondence_distance_coarse, max_correspondence_distance_fine)\n",
    "                    option = o3d.pipelines.registration.GlobalOptimizationOption(max_correspondence_distance=max_correspondence_distance_fine,\n",
    "                                                                                 edge_prune_threshold=0.05, reference_node=0)\n",
    "                    with o3d.utility.VerbosityContextManager(o3d.utility.VerbosityLevel.Debug) as cm:\n",
    "                        o3d.pipelines.registration.global_optimization(pose_graph,\n",
    "                            o3d.pipelines.registration.GlobalOptimizationLevenbergMarquardt(),\n",
    "                            o3d.pipelines.registration.GlobalOptimizationConvergenceCriteria(),\n",
    "                            option)\n",
    "                    \n",
    "                    #transformation_icp, information_icp = pairwise_registration(pcds[0], pcds[1])\n",
    "                        \n",
    "                    #for point_id in range(len(pcds)):\n",
    "                    pcds[1].transform(pose_graph.nodes[1].pose)\n",
    "                    #print(pose_graph.nodes[1].pose)\n",
    "                    #draw_result(pcds[1], pcds[0])\n",
    "                    #source_temp = copy.deepcopy(pcds[1])\n",
    "                    #target_temp = copy.deepcopy(pcds[0])\n",
    "                    #source_temp.paint_uniform_color([255, 0, 0])\n",
    "                    #target_temp.paint_uniform_color([0, 255, 0])\n",
    "                    #o3d.visualization.draw_geometries([source_temp, target_temp])\n",
    "                    \n",
    "                    if(not os.path.exists(os.path.join(path, registrations_path, str(dir)))):\n",
    "                                os.mkdir(os.path.join(path, registrations_path, str(dir)))\n",
    "                    o3d.io.write_point_cloud(os.path.join(path, registrations_path, str(dir) , organs[i]), pcds[1], print_progress=True, write_ascii=True)\n",
    "\n",
    "#Visualization\n",
    "def draw_preproccessing(source, target):\n",
    "    source_temp = copy.deepcopy(source)\n",
    "    target_temp = copy.deepcopy(target)\n",
    "    source_temp.paint_uniform_color([255, 0, 0])\n",
    "    target_temp.paint_uniform_color([0, 255, 0])\n",
    "    o3d.visualization.draw_geometries([source_temp, target_temp])\n",
    "    \n",
    "def draw_result(source, target):\n",
    "    source_temp = copy.deepcopy(source)\n",
    "    target_temp = copy.deepcopy(target)\n",
    "    source_temp.paint_uniform_color([255, 0, 0])\n",
    "    target_temp.paint_uniform_color([0, 255, 0])\n",
    "    o3d.visualization.draw_geometries([source_temp, target_temp])\n",
    "                    \n",
    "def draw_registration_result(source, target, transformation):\n",
    "    source_temp = copy.deepcopy(source)\n",
    "    target_temp = copy.deepcopy(target)\n",
    "    source_temp.paint_uniform_color([255, 0, 0])\n",
    "    target_temp.paint_uniform_color([0, 255, 0])\n",
    "    source_temp.transform(transformation)\n",
    "    o3d.visualization.draw_geometries([source_temp, target_temp])\n",
    "\n",
    "#Progress checking\n",
    "def finished():\n",
    "    path = root_path\n",
    "    segmentations_path = \"organ_segmentations\"\n",
    "    decimations_path = \"organ_decimations_ply\"\n",
    "    registrations_path = \"gendered_organ_registrations_ply\"\n",
    "    chossen_path = registrations_path\n",
    "    organs = [\"liver_mesh.ply\", \"spleen_mesh.ply\", \"left_kidney_mesh.ply\", \"right_kidney_mesh.ply\", \"pancreas_mesh.ply\"]\n",
    "    finished_status = True\n",
    "    finished = 0\n",
    "    unfinished = 0\n",
    "    unfinished_ids = {}\n",
    "    unfinished_dirs = []\n",
    "\n",
    "    dirs = next(os.walk(os.path.join(path, chossen_path)))[1]\n",
    "    for dir in dirs:\n",
    "        finished_status = True\n",
    "        unfinished_organs = []\n",
    "        for i in range(0, len(organs)):\n",
    "            if(not os.path.exists(os.path.join(path, chossen_path, str(dir) , organs[i]))):\n",
    "                finished_status = False\n",
    "                unfinished_organs.append(organs[i])\n",
    "        if(finished_status):\n",
    "            finished = finished + 1\n",
    "        else:\n",
    "            unfinished = unfinished + 1\n",
    "            unfinished_organs.append(len(unfinished_organs))\n",
    "            unfinished_ids[dir] = [unfinished_organs]\n",
    "            unfinished_dirs.append(dir)\n",
    "\n",
    "    return finished, unfinished, unfinished_ids, unfinished_dirs"
   ]
  },
  {
   "attachments": {},
   "cell_type": "markdown",
   "metadata": {},
   "source": [
    "# Progress Checker"
   ]
  },
  {
   "cell_type": "code",
   "execution_count": 7,
   "metadata": {},
   "outputs": [
    {
     "name": "stdout",
     "output_type": "stream",
     "text": [
      "30379 0\n"
     ]
    }
   ],
   "source": [
    "x, y, z, q= finished()\n",
    "print(x, y)"
   ]
  },
  {
   "attachments": {},
   "cell_type": "markdown",
   "metadata": {},
   "source": [
    "# Visualizations"
   ]
  },
  {
   "cell_type": "code",
   "execution_count": 5,
   "metadata": {},
   "outputs": [
    {
     "name": "stdout",
     "output_type": "stream",
     "text": [
      "\u001b[1;33m[Open3D WARNING] GLFW Error: X11: The DISPLAY environment variable is missing\u001b[0;m\n",
      "\u001b[1;33m[Open3D WARNING] Failed to initialize GLFW\u001b[0;m\n",
      "\u001b[1;33m[Open3D WARNING] [DrawGeometries] Failed creating OpenGL window.\u001b[0;m\n"
     ]
    }
   ],
   "source": [
    "# with open3d: point cloud\n",
    "pcd = o3d.geometry.PointCloud()\n",
    "pcd.points = o3d.utility.Vector3dVector(np.asarray(verts1))\n",
    "\n",
    "o3d.visualization.draw_geometries([pcd])"
   ]
  },
  {
   "cell_type": "code",
   "execution_count": 6,
   "metadata": {},
   "outputs": [
    {
     "name": "stdout",
     "output_type": "stream",
     "text": [
      "\u001b[1;33m[Open3D WARNING] GLFW Error: X11: The DISPLAY environment variable is missing\u001b[0;m\n",
      "\u001b[1;33m[Open3D WARNING] Failed to initialize GLFW\u001b[0;m\n",
      "\u001b[1;33m[Open3D WARNING] [DrawGeometries] Failed creating OpenGL window.\u001b[0;m\n"
     ]
    }
   ],
   "source": [
    "# with open3d: graph\n",
    "lines = o3d.utility.Vector2iVector(np.asarray(edges1))\n",
    "line_set = o3d.geometry.LineSet(\n",
    "        points=o3d.utility.Vector3dVector(np.asarray(verts1)),\n",
    "        lines=lines)\n",
    "\n",
    "line_set.colors = o3d.utility.Vector3dVector([[1, 0, 0] for i in range(len(lines1))])\n",
    "\n",
    "o3d.visualization.draw_geometries([line_set])"
   ]
  },
  {
   "cell_type": "code",
   "execution_count": 15,
   "metadata": {},
   "outputs": [
    {
     "data": {
      "text/plain": [
       "TriangleMesh with 7904 points and 15804 triangles."
      ]
     },
     "execution_count": 15,
     "metadata": {},
     "output_type": "execute_result"
    }
   ],
   "source": [
    "# with open3d: triangle mesh\n",
    "mesh = o3d.geometry.TriangleMesh(vertices = o3d.utility.Vector3dVector(np.asarray(verts2)), triangles = o3d.utility.Vector3iVector(np.asarray(faces2)))\n",
    "#mesh.compute_vertex_normals()\n",
    "#mesh.paint_uniform_color([0, 1, 0]) \n",
    "#vis = o3d.visualization.Visualizer()\n",
    "#vis.create_window()\n",
    "#vis.add_geometry(mesh)\n",
    "# vis.update_geometry()\n",
    "#vis.poll_events()\n",
    "#vis.update_renderer()\n",
    "#path = \"liver_mesh.jpg\"\n",
    "#vis.capture_screen_image(path)\n",
    "#vis.destroy_window()\n",
    "mesh\n",
    "# o3d.visualization.draw_geometries([mesh])"
   ]
  },
  {
   "attachments": {},
   "cell_type": "markdown",
   "metadata": {},
   "source": [
    "# Data Processing"
   ]
  },
  {
   "cell_type": "code",
   "execution_count": null,
   "metadata": {},
   "outputs": [],
   "source": [
    "data = pd.read_csv(\"/data0/practical-wise2223/organ_mesh/basic_features.csv\")\n",
    "normalized_data = pd.read_csv(\"/data0/practical-wise2223/organ_mesh/normalized_basic_features.csv\")\n",
    "normalize(data, \"21003-2.0\")\n",
    "raw_loss  = baseline_L1loss(data, \"21003-2.0\")\n",
    "normalized_loss  = baseline_L1loss(normalized_data, \"21003-2.0\")"
   ]
  },
  {
   "cell_type": "markdown",
   "metadata": {},
   "source": [
    "# Decimation"
   ]
  },
  {
   "cell_type": "code",
   "execution_count": null,
   "metadata": {},
   "outputs": [
    {
     "data": {
      "text/plain": [
       "[[2488, 6, 6, 22, 38], [4974, 8, 8, 40, 72]]"
      ]
     },
     "execution_count": 17,
     "metadata": {},
     "output_type": "execute_result"
    }
   ],
   "source": [
    "minimums"
   ]
  },
  {
   "cell_type": "code",
   "execution_count": 6,
   "metadata": {},
   "outputs": [],
   "source": [
    "empty_files = dec_triangle_mesh_ply(2000)"
   ]
  },
  {
   "cell_type": "markdown",
   "metadata": {},
   "source": [
    "# Registeration"
   ]
  },
  {
   "cell_type": "code",
   "execution_count": 10,
   "metadata": {},
   "outputs": [
    {
     "name": "stdout",
     "output_type": "stream",
     "text": [
      "done\n"
     ]
    },
    {
     "data": {
      "text/plain": [
       "[14653, 14653, 15729, 15726]"
      ]
     },
     "execution_count": 10,
     "metadata": {},
     "output_type": "execute_result"
    }
   ],
   "source": [
    "stats = gender_split_decimations()\n",
    "stats"
   ]
  },
  {
   "cell_type": "code",
   "execution_count": 13,
   "metadata": {
    "tags": []
   },
   "outputs": [
    {
     "name": "stdout",
     "output_type": "stream",
     "text": [
      "2901448\n"
     ]
    }
   ],
   "source": [
    "register_meshes(\"male\")"
   ]
  },
  {
   "cell_type": "code",
   "execution_count": 8,
   "metadata": {},
   "outputs": [
    {
     "name": "stdout",
     "output_type": "stream",
     "text": [
      "2635627\n"
     ]
    }
   ],
   "source": [
    "register_meshes(\"female\")"
   ]
  },
  {
   "cell_type": "code",
   "execution_count": 8,
   "metadata": {},
   "outputs": [
    {
     "name": "stdout",
     "output_type": "stream",
     "text": [
      "30721\n"
     ]
    }
   ],
   "source": [
    "path = \"/data0/practical-wise2223/organ_mesh/organ_registrations_ply/\"\n",
    "print(len(next(os.walk(path))[1]))"
   ]
  },
  {
   "cell_type": "code",
   "execution_count": 1,
   "metadata": {},
   "outputs": [
    {
     "name": "stdout",
     "output_type": "stream",
     "text": [
      "30379\n"
     ]
    }
   ],
   "source": [
    "path = \"/data0/practical-wise2223/organ_mesh/gendered_organ_registrations_ply/\"\n",
    "print(len(next(os.walk(path))[1]))"
   ]
  }
 ],
 "metadata": {
  "kernelspec": {
   "display_name": "Python 3",
   "language": "python",
   "name": "python3"
  },
  "language_info": {
   "codemirror_mode": {
    "name": "ipython",
    "version": 3
   },
   "file_extension": ".py",
   "mimetype": "text/x-python",
   "name": "python",
   "nbconvert_exporter": "python",
   "pygments_lexer": "ipython3",
   "version": "3.8.10"
  },
  "vscode": {
   "interpreter": {
    "hash": "916dbcbb3f70747c44a77c7bcd40155683ae19c65e1c03b4aa3499c5328201f1"
   }
  }
 },
 "nbformat": 4,
 "nbformat_minor": 4
}
